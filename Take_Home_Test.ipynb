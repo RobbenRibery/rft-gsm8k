{
 "cells": [
  {
   "cell_type": "markdown",
   "metadata": {
    "id": "2_jcCK5ncrsw"
   },
   "source": [
    "# Goal\n",
    "\n",
    "We'd like to learn a little more about how you practically approach a small research-like project loosely based on Rejection Sampling Fine-tuning (aka RFT, introduced in https://arxiv.org/abs/2308.01825).\n",
    "\n",
    "Tip: focus on section 3.3 (\"Rejection Sampling Fine-tuning\"). The paper isn't the best written, and we're happy to clarify anything.\n",
    "\n",
    "We will provide some skeleton code for you to guide what we would like to see from you, although if you have ideas for a different structure you feel is better or more elegant, then feel free to rewrite and replace at will.\n",
    "\n",
    "Note: your final submission does not have to be in a colab notebook, does not have to use Hugging Face, etc.\n",
    "\n",
    "---\n",
    "\n",
    "\n",
    "We want to give you a chance to show off some of your best abilities.\n",
    "\n",
    "For some people that might mean generating high quality data in a smart way. For others, it might be speeding up the whole process to enable easy reproducibility, and maybe organizing the code in a better way than given. Yet for others, it might be a chance to show off some modern policy optimization techniques like DPO or its variants. Or maybe focusing on solid evaluations and identifying limitations of small models and limited fine-tuning.\n",
    "\n",
    "An ideal outcome of course is some sense of the model improving its mathematical abilities, but it’s not a bad thing if the final evaluation somehow shows equal or worse performance 😂 (negative results are results).\n",
    "\n",
    "Ask lots of question! We're happy to answer any questions about the assignment, and to discuss concepts like RFT."
   ]
  },
  {
   "cell_type": "markdown",
   "metadata": {
    "id": "ojrmHoW2dLdU"
   },
   "source": [
    "# Setup [ignore - just run]\n",
    "***"
   ]
  },
  {
   "cell_type": "code",
   "execution_count": 1,
   "metadata": {
    "collapsed": true,
    "id": "zPfAkbvHdEwJ"
   },
   "outputs": [],
   "source": [
    "#!pip3 install -r requirements.txt"
   ]
  },
  {
   "cell_type": "code",
   "execution_count": 1,
   "metadata": {},
   "outputs": [],
   "source": [
    "%load_ext autoreload\n",
    "%autoreload 2\n",
    "\n",
    "import os  \n",
    "import torch\n",
    "import random \n",
    "import datasets\n",
    "import numpy as np \n",
    "import pandas as pd\n",
    "\n",
    "from transformers import AutoModelForCausalLM, AutoTokenizer, pipeline\n",
    "\n",
    "from torch.utils.data import DataLoader\n",
    "\n",
    "from data import GSM8KDataset, _apply_template\n",
    "from prompt import EvalTemplate, EvalTemplateExp\n",
    "\n",
    "import utils\n",
    "import generation \n",
    "\n",
    "import seaborn as sns \n",
    "\n",
    "os.environ[\"TOKENIZERS_PARALLELISM\"] = \"true\"\n",
    "SEED = 128 \n",
    "MODEL_NAME = \"microsoft/Phi-3.5-mini-instruct\"\n",
    "\n",
    "# set seeds\n",
    "torch.random.manual_seed(SEED)\n",
    "random.seed(SEED)\n",
    "np.random.seed(SEED)"
   ]
  },
  {
   "cell_type": "code",
   "execution_count": 3,
   "metadata": {},
   "outputs": [
    {
     "data": {
      "application/vnd.jupyter.widget-view+json": {
       "model_id": "43965267e9624a7f82cdef12319bb522",
       "version_major": 2,
       "version_minor": 0
      },
      "text/plain": [
       "Loading checkpoint shards:   0%|          | 0/2 [00:00<?, ?it/s]"
      ]
     },
     "metadata": {},
     "output_type": "display_data"
    },
    {
     "name": "stdout",
     "output_type": "stream",
     "text": [
      "Num Training instances: 7473\n",
      "Num Validation instances: 1319\n"
     ]
    }
   ],
   "source": [
    "model = AutoModelForCausalLM.from_pretrained(\n",
    "    MODEL_NAME,\n",
    "    device_map=\"auto\",\n",
    "    torch_dtype=torch.bfloat16, # accelerate inf \n",
    "    trust_remote_code=True,\n",
    "    attn_implementation=\"flash_attention_2\",\n",
    ")\n",
    "tokenizer = AutoTokenizer.from_pretrained(MODEL_NAME)\n",
    "\n",
    "train_dataset = datasets.load_dataset('gsm8k', 'main')['train']\n",
    "val_dataset = datasets.load_dataset('gsm8k', 'main')['test'] \n",
    "print(f\"Num Training instances: {train_dataset.shape[0]}\")\n",
    "print(f\"Num Validation instances: {val_dataset.shape[0]}\")\n"
   ]
  },
  {
   "cell_type": "markdown",
   "metadata": {},
   "source": [
    "# Dataset\n",
    "****\n",
    "- The reasoning paths/hops seem to present in seperate lines (leading to easiniess in parsing them)\n",
    "- The equaiton tags ```<< >>``` are used to train language models to invoke calculators in the original GSM8K OpenAI paper.\n",
    "- **Verified that our ```utils.GSM8KParser.get_answer_from_pred``` is parsing the same result as the ground truth parser**"
   ]
  },
  {
   "cell_type": "markdown",
   "metadata": {},
   "source": [
    "## Inspection "
   ]
  },
  {
   "cell_type": "code",
   "execution_count": 5,
   "metadata": {},
   "outputs": [
    {
     "data": {
      "text/plain": [
       "Dataset({\n",
       "    features: ['question', 'answer'],\n",
       "    num_rows: 7473\n",
       "})"
      ]
     },
     "execution_count": 5,
     "metadata": {},
     "output_type": "execute_result"
    }
   ],
   "source": [
    "train_dataset"
   ]
  },
  {
   "cell_type": "code",
   "execution_count": 6,
   "metadata": {},
   "outputs": [
    {
     "name": "stdout",
     "output_type": "stream",
     "text": [
      "****************************************************************************************************\n",
      "Checking instance 3282:\n",
      "question\n",
      "It’s February 2021.  Mark was born in January 1976.  Graham is 3 years younger than Mark, and Graham’s sister, Janice, is 1/2 the age of Graham.  How old is Janice?\n",
      "answer\n",
      "It’s 2021 and Mark was born in 1976 so Mark is 2021-1976 = <<2021-1976=45>>45 years old\n",
      "Graham is 3 years younger than Mark who is 45 so Graham is 45-3 = 42 years old\n",
      "Janice is 1/2 the age of Graham who is 42 so Janice is 42/2 = <<42/2=21>>21 years old\n",
      "#### 21\n",
      "**************************************************\n",
      "****************************************************************************************************\n",
      "Checking instance 7251:\n",
      "question\n",
      "Melissa sells a coupe for $30,000 and an SUV for twice as much. If her commission is 2%, how much money did she make from these sales?\n",
      "answer\n",
      "First find the total cost of the SUV: $30,000 * 2 = $<<30000*2=60000>>60,000\n",
      "Then add the cost of the coupe to find the total cost of the cars: $60,000 + $30,000 = $<<60000+30000=90000>>90,000\n",
      "Multiplying that amount by Melissa's commission rate, we find her earnings are $90,000 * 2% = $<<90000*2*.01=1800>>1800\n",
      "#### 1800\n",
      "**************************************************\n",
      "****************************************************************************************************\n",
      "Checking instance 5605:\n",
      "question\n",
      "Two years ago, Jared was twice as old as Tom. If Tom will be 30 in five years, how old is Jared now?\n",
      "answer\n",
      "Tom will be 30 in 5 years so now he is 30-5 = <<30-5=25>>25\n",
      "2 years ago Tom was 25-2 = <<25-2=23>>23\n",
      "At that time, Jared was twice as old as Tom so Jared was 23*2 = 46\n",
      "Two years have since passed so Jared is now 46+2 = <<46+2=48>>48\n",
      "#### 48\n",
      "**************************************************\n",
      "****************************************************************************************************\n",
      "Checking instance 2386:\n",
      "question\n",
      "An animal shelter recently took in twelve cats. The shelter already had half that number of cats. Two days later, three had been adopted. The next day, one of the cats had five kittens, and one person arrived to pick up one of the cats that was their missing pet. How many cats does the shelter have now?\n",
      "answer\n",
      "The shelter started with 12 / 2 = <<12/2=6>>6 cats.\n",
      "The cats they took in increased the number to 12 + 6 = <<12+6=18>>18 cats.\n",
      "Three cats were adopted, so they had 18 - 3 = <<18-3=15>>15 cats.\n",
      "One cat had 5 kittens, which increased the number of cats to 15 + 5 = 20 cats.\n",
      "The pet owner came to get his missing cat, so they now have 20 - 1 = <<20-1=19>>19 cats.\n",
      "#### 19\n",
      "**************************************************\n",
      "****************************************************************************************************\n",
      "Checking instance 7287:\n",
      "question\n",
      "Lena has 16 candy bars. She needs 5 more candy bars to have 3 times as many as Kevin, and Kevin has 4 candy bars less than Nicole. How many more candy bars does Lena have than Nicole?\n",
      "answer\n",
      "Kevin has (16 + 5)/3 = <<(16+5)/3=7>>7 candy bars.\n",
      "Nicole has 7 + 4 = <<7+4=11>>11 candy bars.\n",
      "Lena has 16 - 11 = <<16-11=5>>5 more candy bars than Nicole\n",
      "#### 5\n",
      "**************************************************\n"
     ]
    }
   ],
   "source": [
    "for _ in range(5):\n",
    "    seed = np.random.randint(0, len(train_dataset))\n",
    "    print(\"*\"*100)\n",
    "    print(f\"Checking instance {seed}:\")\n",
    "    utils.inspect_instance(train_dataset, seed)"
   ]
  },
  {
   "cell_type": "markdown",
   "metadata": {},
   "source": [
    "## Extract statistics "
   ]
  },
  {
   "cell_type": "markdown",
   "metadata": {},
   "source": [
    "We only look at train set now for certain information that will be used\n",
    "during inference \n",
    "\n",
    "- Maximum length (num_tokens) of question: 239\n",
    "- Maximum length (num_tokens) of answer: 475 "
   ]
  },
  {
   "cell_type": "code",
   "execution_count": 7,
   "metadata": {},
   "outputs": [
    {
     "data": {
      "application/vnd.jupyter.widget-view+json": {
       "model_id": "e3c1f4d22a164812bed55bedbdf169ae",
       "version_major": 2,
       "version_minor": 0
      },
      "text/plain": [
       "Map:   0%|          | 0/7473 [00:00<?, ? examples/s]"
      ]
     },
     "metadata": {},
     "output_type": "display_data"
    },
    {
     "data": {
      "application/vnd.jupyter.widget-view+json": {
       "model_id": "b605a219f772401ca00b79a1c01bc0cc",
       "version_major": 2,
       "version_minor": 0
      },
      "text/plain": [
       "Map:   0%|          | 0/7473 [00:00<?, ? examples/s]"
      ]
     },
     "metadata": {},
     "output_type": "display_data"
    },
    {
     "name": "stdout",
     "output_type": "stream",
     "text": [
      "Maximum answer num_tokens: 475\n",
      "Maximum question num_tokens: 239\n"
     ]
    }
   ],
   "source": [
    "train_dataset = train_dataset.map(\n",
    "    lambda x: utils.GSM8KParser.get_question_length(x['question'], tokenizer)\n",
    ")\n",
    "\n",
    "train_dataset = train_dataset.map(\n",
    "    lambda x: utils.GSM8KParser.get_answer_length(x['answer'], tokenizer) \n",
    ")\n",
    "print(f\"Maximum answer num_tokens: {max(train_dataset['answer_length'])}\")\n",
    "print(f\"Maximum question num_tokens: {max(train_dataset['question_length'])}\")"
   ]
  },
  {
   "cell_type": "markdown",
   "metadata": {},
   "source": [
    "## Extract Answer "
   ]
  },
  {
   "cell_type": "code",
   "execution_count": 8,
   "metadata": {},
   "outputs": [
    {
     "data": {
      "application/vnd.jupyter.widget-view+json": {
       "model_id": "6a69a3718f2d4537b7fa73aa10cdbc57",
       "version_major": 2,
       "version_minor": 0
      },
      "text/plain": [
       "Map:   0%|          | 0/7473 [00:00<?, ? examples/s]"
      ]
     },
     "metadata": {},
     "output_type": "display_data"
    },
    {
     "data": {
      "application/vnd.jupyter.widget-view+json": {
       "model_id": "190ff23524274d8d9f869e2e4deb1372",
       "version_major": 2,
       "version_minor": 0
      },
      "text/plain": [
       "Map:   0%|          | 0/7473 [00:00<?, ? examples/s]"
      ]
     },
     "metadata": {},
     "output_type": "display_data"
    }
   ],
   "source": [
    "# infer number of hops \n",
    "train_dataset = train_dataset.map(\n",
    "    lambda x: utils.GSM8KParser.get_num_hops(x['answer'])\n",
    ")\n",
    "\n",
    "# infer answes using ground truth parser \n",
    "train_dataset = train_dataset.map(\n",
    "    lambda x: utils.GSM8KParser.get_answer_from_gt(x['answer'])\n",
    ")"
   ]
  },
  {
   "cell_type": "code",
   "execution_count": 9,
   "metadata": {},
   "outputs": [],
   "source": [
    "# Optinal Cell (Only to verify that parsing from \n",
    "# ground truth and parsing from completion would \n",
    "# yield the same result \n",
    "# infer answers using prediction parser\n",
    "answer_str_inf = [\n",
    "    utils.GSM8KParser.get_answer_from_pred(x)['answer_str_digit'] \\\n",
    "    for x in train_dataset['answer']\n",
    "]\n",
    "assert answer_str_inf == train_dataset['answer_str_digit']"
   ]
  },
  {
   "cell_type": "markdown",
   "metadata": {},
   "source": [
    "# A note on the collate function \n",
    "***\n",
    "Instead of tokenizing the dataset using ```collate_fn``` on the fly. I went for pre-tokenzing the dataset into a static format, avoiding the need to tokenzie data on the fly. This would lead to faster training runs, but less flexibility in terms of handling data on the fly. i.e. If you want to slightly modify the quesiton conditional on the model performance during training, it's impossible to do it without a collate function.\n",
    "\n",
    "However, since our problem is simple, we can afford to pre-tokenize the dataset.\n",
    "\n",
    "That said, there is a dummy collation function ```class PreprocessedCollator(DataCollatorMixin)``` in ```lora.py```, simply offloading the input to format required by SFTTRainer. \n",
    "\n",
    "Inside ```data.py```, the tokenization is done in the ```GSM8KDataset``` class, which runs a ````self._preprocess```` function on instentiation. \n",
    "\n",
    "All required attributes, i.e. input_ids, attention_mask, labels are prepared once instentiation completes. For detailed explanation, please refer to ```data.GSM8KDataset._preprocess```. \n",
    "\n",
    "If we refers to ```data.GSM8KDataset``` class, you could find that the output schema is rather long, which could result in taking up nunecessary spaces during training, further engineering effort could be inplace to remediate that. \n"
   ]
  },
  {
   "cell_type": "code",
   "execution_count": 10,
   "metadata": {},
   "outputs": [
    {
     "data": {
      "application/vnd.jupyter.widget-view+json": {
       "model_id": "2940d3b8e5cf4e2b92d197e5c6e70b35",
       "version_major": 2,
       "version_minor": 0
      },
      "text/plain": [
       "Map:   0%|          | 0/7473 [00:00<?, ? examples/s]"
      ]
     },
     "metadata": {},
     "output_type": "display_data"
    },
    {
     "data": {
      "application/vnd.jupyter.widget-view+json": {
       "model_id": "a8b7990aaa1a4e5aac9ab990ff196a40",
       "version_major": 2,
       "version_minor": 0
      },
      "text/plain": [
       "Map:   0%|          | 0/7473 [00:00<?, ? examples/s]"
      ]
     },
     "metadata": {},
     "output_type": "display_data"
    },
    {
     "data": {
      "application/vnd.jupyter.widget-view+json": {
       "model_id": "49529a8f6c134d449eb2161c5b2ac740",
       "version_major": 2,
       "version_minor": 0
      },
      "text/plain": [
       "Map:   0%|          | 0/7473 [00:00<?, ? examples/s]"
      ]
     },
     "metadata": {},
     "output_type": "display_data"
    },
    {
     "data": {
      "application/vnd.jupyter.widget-view+json": {
       "model_id": "1863d85e00fc43bab4ebe5d5b799dfa7",
       "version_major": 2,
       "version_minor": 0
      },
      "text/plain": [
       "Map:   0%|          | 0/7473 [00:00<?, ? examples/s]"
      ]
     },
     "metadata": {},
     "output_type": "display_data"
    },
    {
     "data": {
      "application/vnd.jupyter.widget-view+json": {
       "model_id": "d0d88bc4f7df444c8cd1f2aff833ed58",
       "version_major": 2,
       "version_minor": 0
      },
      "text/plain": [
       "Map:   0%|          | 0/7473 [00:00<?, ? examples/s]"
      ]
     },
     "metadata": {},
     "output_type": "display_data"
    },
    {
     "data": {
      "application/vnd.jupyter.widget-view+json": {
       "model_id": "20f54f240d1041a68cbbc13e26d9660e",
       "version_major": 2,
       "version_minor": 0
      },
      "text/plain": [
       "Map:   0%|          | 0/7473 [00:00<?, ? examples/s]"
      ]
     },
     "metadata": {},
     "output_type": "display_data"
    },
    {
     "name": "stdout",
     "output_type": "stream",
     "text": [
      "Maximum question num_tokens: 359\n",
      "Maximum answer num_tokens: 477\n",
      "Maximum sequence num_tokens: 836\n",
      "Maximum new tokens in generation: 527\n"
     ]
    },
    {
     "data": {
      "application/vnd.jupyter.widget-view+json": {
       "model_id": "e7c6bdbb90fc440d8bf181f4be3c8951",
       "version_major": 2,
       "version_minor": 0
      },
      "text/plain": [
       "Map:   0%|          | 0/7473 [00:00<?, ? examples/s]"
      ]
     },
     "metadata": {},
     "output_type": "display_data"
    },
    {
     "name": "stdout",
     "output_type": "stream",
     "text": [
      "Setup Completed dataset:\n",
      "Dataset({\n",
      "    features: ['question', 'answer', 'num_hops', 'answer_str_digit', 'formatted_question', 'formatted_answer', 'question_length', 'answer_length', 'question_input_ids', 'question_attention_mask', 'input_ids', 'attention_mask', 'labels'],\n",
      "    num_rows: 7473\n",
      "})\n"
     ]
    }
   ],
   "source": [
    "train_dataset = datasets.load_dataset('gsm8k', 'main')['train']\n",
    "train_dataset = train_dataset.map(\n",
    "    lambda x: utils.GSM8KParser.get_num_hops(x['answer'])\n",
    ")\n",
    "TrainData = GSM8KDataset(train_dataset, tokenizer) #Complete tokenization of the dataset"
   ]
  },
  {
   "cell_type": "code",
   "execution_count": 11,
   "metadata": {},
   "outputs": [
    {
     "data": {
      "application/vnd.jupyter.widget-view+json": {
       "model_id": "c8ca673deda94abf84b8e815704d1217",
       "version_major": 2,
       "version_minor": 0
      },
      "text/plain": [
       "Map:   0%|          | 0/1319 [00:00<?, ? examples/s]"
      ]
     },
     "metadata": {},
     "output_type": "display_data"
    },
    {
     "data": {
      "application/vnd.jupyter.widget-view+json": {
       "model_id": "7bb690fa1e0345d189214e8e35f9c042",
       "version_major": 2,
       "version_minor": 0
      },
      "text/plain": [
       "Map:   0%|          | 0/1319 [00:00<?, ? examples/s]"
      ]
     },
     "metadata": {},
     "output_type": "display_data"
    },
    {
     "data": {
      "application/vnd.jupyter.widget-view+json": {
       "model_id": "367dc205b05e4a10a81658be26165c79",
       "version_major": 2,
       "version_minor": 0
      },
      "text/plain": [
       "Map:   0%|          | 0/1319 [00:00<?, ? examples/s]"
      ]
     },
     "metadata": {},
     "output_type": "display_data"
    },
    {
     "data": {
      "application/vnd.jupyter.widget-view+json": {
       "model_id": "6b4b1d155f2748fab3f1d1a7bfe8fb13",
       "version_major": 2,
       "version_minor": 0
      },
      "text/plain": [
       "Map:   0%|          | 0/1319 [00:00<?, ? examples/s]"
      ]
     },
     "metadata": {},
     "output_type": "display_data"
    },
    {
     "data": {
      "application/vnd.jupyter.widget-view+json": {
       "model_id": "b5c5aee5dd144a4d8c8364f1ecfdf49e",
       "version_major": 2,
       "version_minor": 0
      },
      "text/plain": [
       "Map:   0%|          | 0/1319 [00:00<?, ? examples/s]"
      ]
     },
     "metadata": {},
     "output_type": "display_data"
    },
    {
     "data": {
      "application/vnd.jupyter.widget-view+json": {
       "model_id": "c6a65465d9ed46d6aa36560531500bc6",
       "version_major": 2,
       "version_minor": 0
      },
      "text/plain": [
       "Map:   0%|          | 0/1319 [00:00<?, ? examples/s]"
      ]
     },
     "metadata": {},
     "output_type": "display_data"
    },
    {
     "name": "stdout",
     "output_type": "stream",
     "text": [
      "Maximum question num_tokens: 310\n",
      "Maximum answer num_tokens: 430\n",
      "Maximum sequence num_tokens: 740\n",
      "Maximum new tokens in generation: 480\n"
     ]
    },
    {
     "data": {
      "application/vnd.jupyter.widget-view+json": {
       "model_id": "68524752c0194bf7be0278c0a2178866",
       "version_major": 2,
       "version_minor": 0
      },
      "text/plain": [
       "Map:   0%|          | 0/1319 [00:00<?, ? examples/s]"
      ]
     },
     "metadata": {},
     "output_type": "display_data"
    },
    {
     "name": "stdout",
     "output_type": "stream",
     "text": [
      "Setup Completed dataset:\n",
      "Dataset({\n",
      "    features: ['question', 'answer', 'num_hops', 'answer_str_digit', 'formatted_question', 'formatted_answer', 'question_length', 'answer_length', 'question_input_ids', 'question_attention_mask', 'input_ids', 'attention_mask', 'labels'],\n",
      "    num_rows: 1319\n",
      "})\n"
     ]
    }
   ],
   "source": [
    "val_dataset = datasets.load_dataset('gsm8k', 'main')['test'] \n",
    "val_dataset = val_dataset.map(\n",
    "    lambda x: utils.GSM8KParser.get_num_hops(x['answer'])\n",
    ")\n",
    "valData = GSM8KDataset(val_dataset, tokenizer)"
   ]
  },
  {
   "cell_type": "markdown",
   "metadata": {},
   "source": [
    "## Validation \n",
    "\n",
    "* We wanted to validate that our mannual padding is done correctly "
   ]
  },
  {
   "cell_type": "markdown",
   "metadata": {},
   "source": [
    "### Data Loader Compatibility"
   ]
  },
  {
   "cell_type": "code",
   "execution_count": 12,
   "metadata": {},
   "outputs": [],
   "source": [
    "dummy_dataloader = DataLoader(TrainData, batch_size=2, shuffle=False)\n",
    "for batch in dummy_dataloader:\n",
    "    assert batch['input_ids'].shape[0] == 2\n",
    "    assert (batch['input_ids'] == TrainData[:2]['input_ids']).all()\n",
    "    break \n",
    "# first we validated that it's loading a homugenous batch of data"
   ]
  },
  {
   "cell_type": "markdown",
   "metadata": {},
   "source": [
    "### Padding for the entire sequence (training)"
   ]
  },
  {
   "cell_type": "code",
   "execution_count": 13,
   "metadata": {},
   "outputs": [
    {
     "name": "stdout",
     "output_type": "stream",
     "text": [
      "<|system|> You are a highly intelligent assistant who is exceptional at solving Math Problems.<|end|><|user|> *Task*    \n",
      "Think step by step to solve the following question:\n",
      "NOTE:\n",
      "1. Reason deductively.\n",
      "1. Write all equations in a single line wihtout breaks in the middle.\n",
      "2. Submit final answer using PURE DIGITS, in the last starting with \"####\".\n",
      "    i.e. \"#### 10\" if the final answer is $10\n",
      "\n",
      "```question\n",
      "Natalia sold clips to 48 of her friends in April, and then she sold half as many clips in May. How many clips did Natalia sell altogether in April and May?\n",
      "```<|end|><|assistant|> Natalia sold 48/2 = <<48/2=24>>24 clips in May.\n",
      "Natalia sold 48+24 = <<48+24=72>>72 clips altogether in April and May.\n",
      "#### 72<|end|><|endoftext|>\n"
     ]
    }
   ],
   "source": [
    "instance = TrainData[0]\n",
    "# check (attention mask == 1) part for the entire sequence\n",
    "print(tokenizer.decode(\n",
    "    instance[\"input_ids\"][instance['attention_mask']!=0]\n",
    "))"
   ]
  },
  {
   "cell_type": "code",
   "execution_count": 14,
   "metadata": {},
   "outputs": [
    {
     "name": "stdout",
     "output_type": "stream",
     "text": [
      "Natalia sold 48/2 = <<48/2=24>>24 clips in May.\n",
      "Natalia sold 48+24 = <<48+24=72>>72 clips altogether in April and May.\n",
      "#### 72<|end|><|endoftext|>\n"
     ]
    }
   ],
   "source": [
    "# check (labels!= -100) part for the entire sequence\n",
    "print(tokenizer.decode(\n",
    "    instance[\"input_ids\"][instance['labels']!=-100]\n",
    "))\n",
    "# noticed how loss is not measured on <|assistant|>, it belongs to part of the question "
   ]
  },
  {
   "cell_type": "markdown",
   "metadata": {},
   "source": [
    "### Padding for the question only (inference)"
   ]
  },
  {
   "cell_type": "code",
   "execution_count": 15,
   "metadata": {},
   "outputs": [
    {
     "name": "stdout",
     "output_type": "stream",
     "text": [
      "<|system|> You are a highly intelligent assistant who is exceptional at solving Math Problems.<|end|><|user|> *Task*    \n",
      "Think step by step to solve the following question:\n",
      "NOTE:\n",
      "1. Reason deductively.\n",
      "1. Write all equations in a single line wihtout breaks in the middle.\n",
      "2. Submit final answer using PURE DIGITS, in the last starting with \"####\".\n",
      "    i.e. \"#### 10\" if the final answer is $10\n",
      "\n",
      "```question\n",
      "Natalia sold clips to 48 of her friends in April, and then she sold half as many clips in May. How many clips did Natalia sell altogether in April and May?\n",
      "```<|end|><|assistant|>\n"
     ]
    }
   ],
   "source": [
    "# check (attention_mask = 1) part for the question \n",
    "print(tokenizer.decode(\n",
    "    instance[\"question_input_ids\"][instance[\"question_attention_mask\"]!=0]\n",
    "))\n",
    "# noticed how the question_input_ids only include everything up to <|assistant>| "
   ]
  },
  {
   "cell_type": "markdown",
   "metadata": {},
   "source": [
    "# Model Vibe Check \n",
    "*** \n",
    "\n",
    "* Test the \"easiest\" and the \"hardest\" instances from GSM8K, ranked according to the number of hops \n",
    "required to solve the problem \n",
    "\n",
    "* Noticed that the equation parser `GSM8KParser.parse_equations_from_pred` is not perfectly working, but it can extract sequences of numers and operatiing signs inside each lines of the text. Still giving us information about the numerical operations that has been performed. \n",
    "\n",
    "* Whether we should include text when parsing the eqaution is a question that we could investigate \n",
    "(In different cases, we could see the advantage and disadvantage of both )"
   ]
  },
  {
   "cell_type": "markdown",
   "metadata": {},
   "source": [
    "## Generation Config"
   ]
  },
  {
   "cell_type": "code",
   "execution_count": 16,
   "metadata": {},
   "outputs": [
    {
     "data": {
      "text/plain": [
       "OptimizedModule(\n",
       "  (_orig_mod): Phi3ForCausalLM(\n",
       "    (model): Phi3Model(\n",
       "      (embed_tokens): Embedding(32064, 3072, padding_idx=32000)\n",
       "      (embed_dropout): Dropout(p=0.0, inplace=False)\n",
       "      (layers): ModuleList(\n",
       "        (0-31): 32 x Phi3DecoderLayer(\n",
       "          (self_attn): Phi3FlashAttention2(\n",
       "            (o_proj): Linear(in_features=3072, out_features=3072, bias=False)\n",
       "            (qkv_proj): Linear(in_features=3072, out_features=9216, bias=False)\n",
       "            (rotary_emb): Phi3LongRoPEScaledRotaryEmbedding()\n",
       "          )\n",
       "          (mlp): Phi3MLP(\n",
       "            (gate_up_proj): Linear(in_features=3072, out_features=16384, bias=False)\n",
       "            (down_proj): Linear(in_features=8192, out_features=3072, bias=False)\n",
       "            (activation_fn): SiLU()\n",
       "          )\n",
       "          (input_layernorm): Phi3RMSNorm()\n",
       "          (resid_attn_dropout): Dropout(p=0.0, inplace=False)\n",
       "          (resid_mlp_dropout): Dropout(p=0.0, inplace=False)\n",
       "          (post_attention_layernorm): Phi3RMSNorm()\n",
       "        )\n",
       "      )\n",
       "      (norm): Phi3RMSNorm()\n",
       "    )\n",
       "    (lm_head): Linear(in_features=3072, out_features=32064, bias=False)\n",
       "  )\n",
       ")"
      ]
     },
     "execution_count": 16,
     "metadata": {},
     "output_type": "execute_result"
    }
   ],
   "source": [
    "generation_config = {\n",
    "    \"max_new_tokens\" : 1024,\n",
    "    \"temperature\": 0.2, \n",
    "    \"num_return_sequences\":1,\n",
    "    \"top_p\": 0.9,\n",
    "    \"eos_token_id\":tokenizer.eos_token_id,  # Specify the EOS token\n",
    "    \"pad_token_id\":tokenizer.eos_token_id, \n",
    "    \"do_sample\":True,\n",
    "    \"output_scores\":False,\n",
    "    \"return_dict_in_generate\":True,\n",
    "}\n",
    "model = torch.compile(model)\n",
    "model.eval()"
   ]
  },
  {
   "cell_type": "markdown",
   "metadata": {},
   "source": [
    "## Generate instances "
   ]
  },
  {
   "cell_type": "markdown",
   "metadata": {},
   "source": [
    "#### Shortest hop required instance\n",
    "- An example where parsing without text could extract more relevant information "
   ]
  },
  {
   "cell_type": "code",
   "execution_count": 17,
   "metadata": {},
   "outputs": [
    {
     "name": "stderr",
     "output_type": "stream",
     "text": [
      "The `seen_tokens` attribute is deprecated and will be removed in v4.41. Use the `cache_position` model input instead.\n",
      "`get_max_cache()` is deprecated for all Cache classes. Use `get_max_cache_shape()` instead. Calling `get_max_cache()` will raise error from v4.48\n",
      "From v4.47 onwards, when a model cache is to be returned, `generate` will return a `Cache` instance instead by default (as opposed to the legacy tuple of tuples format). If you want to keep returning the legacy format, please set `return_legacy_cache=True`.\n"
     ]
    },
    {
     "name": "stdout",
     "output_type": "stream",
     "text": [
      "Natalia sold clips to 48 friends in April and half as many in May, which means she sold 48/2 = 24 clips in May. To find the total number of clips sold in April and May, we add the two amounts together: 48 (April) + 24 (May) = 72. Therefore, the final answer is ####72.\n"
     ]
    }
   ],
   "source": [
    "## question that would need to be solved by the shortest hope \n",
    "sorted_data = sorted(TrainData, key=lambda x: x[\"num_hops\"])\n",
    "instance = sorted_data[0]\n",
    "\n",
    "chats = [instance[\"formatted_question\"]]\n",
    "responses = utils.sample_answers(\n",
    "    tokenizer,\n",
    "    model,\n",
    "    chats,\n",
    "    **generation_config,\n",
    ")\n",
    "print(responses[0])"
   ]
  },
  {
   "cell_type": "code",
   "execution_count": 18,
   "metadata": {},
   "outputs": [
    {
     "name": "stdout",
     "output_type": "stream",
     "text": [
      "Prediction -> 72\n",
      "Label -> 72\n"
     ]
    }
   ],
   "source": [
    "answer = instance[\"answer_str_digit\"] \n",
    "prediction =  utils.GSM8KParser.get_answer_from_pred(responses[0])[\"answer_str_digit\"]\n",
    "\n",
    "print(f\"Prediction -> {prediction}\")\n",
    "print(f\"Label -> {answer}\")"
   ]
  },
  {
   "cell_type": "code",
   "execution_count": 19,
   "metadata": {},
   "outputs": [
    {
     "name": "stdout",
     "output_type": "stream",
     "text": [
      "['4848/2=2448+24=7272']\n"
     ]
    }
   ],
   "source": [
    "parsed_eqs = utils.GSM8KParser.parse_equations_from_pred(responses[0])\n",
    "print(parsed_eqs[\"equations\"])\n",
    "## the parser will keep looks for the previous digits before the equal sign until it stops,\n",
    "## which could be clamping all numbers and operational signs in a single line together "
   ]
  },
  {
   "cell_type": "code",
   "execution_count": 20,
   "metadata": {},
   "outputs": [
    {
     "name": "stdout",
     "output_type": "stream",
     "text": [
      "['48 friends in April and half as many in May, which means she sold 48/2 = 24 clips in May. To find the total number of clips sold in April and May, we add the two amounts together: 48 (April) + 24 (May) = 72. Therefore, the final answer is ####72']\n"
     ]
    }
   ],
   "source": [
    "parsed_eqs = utils.GSM8KParser.parse_equations_from_pred(responses[0], include_text=True)\n",
    "print(parsed_eqs[\"equations\"])\n",
    "## including the text could boil down to using the entire sequence, which is undesired "
   ]
  },
  {
   "cell_type": "markdown",
   "metadata": {},
   "source": [
    "### Longest hop required instnace\n",
    "- An example where parsing including text around the formula works better "
   ]
  },
  {
   "cell_type": "code",
   "execution_count": 21,
   "metadata": {},
   "outputs": [
    {
     "name": "stdout",
     "output_type": "stream",
     "text": [
      "To solve this problem, we need to follow these steps:\n",
      "\n",
      "1. Determine the number of male and female students based on the given ratio and total number of students.\n",
      "2. Calculate the number of male and female students who like to play basketball.\n",
      "3. Find the total number of students who like to play basketball.\n",
      "4. Calculate the number of students who do not like to play basketball.\n",
      "5. Determine the percentage of students who do not like to play basketball out of the total student population.\n",
      "\n",
      "Let's go through these steps:\n",
      "\n",
      "Step 1: Determine the number of male and female students.\n",
      "The ratio of male to female students is 3:2, and there are 1000 students in total. To find out how many are male and how many are female, we can use the ratio:\n",
      "\n",
      "Total parts = 3 (male) + 2 (female) = 5 parts\n",
      "Each part represents 1000 / 5 = 200 students.\n",
      "\n",
      "So, there are:\n",
      "Male students = 3 parts * 200 students/part = 600 male students\n",
      "Female students = 2 parts * 200 students/part = 400 female students\n",
      "\n",
      "Step 2: Calculate the number of male and female students who like to play basketball.\n",
      "2/3 of the male students like to play basketball, so:\n",
      "Male students who like basketball = 2/3 * 600 = 400 male students\n",
      "\n",
      "1/5 of the female students like to play basketball, so:\n",
      "Female students who like basketball = 1/5 * 400 = 80 female students\n",
      "\n",
      "Step 3: Find the total number of students who like to play basketball.\n",
      "Total students who like basketball = Male students who like basketball + Female students who like basketball\n",
      "Total students who like basketball = 400 + 80 = 480 students\n",
      "\n",
      "Step 4: Calculate the number of students who do not like to play basketball.\n",
      "Total students who do not like basketball = Total students - Total students who like basketball\n",
      "Total students who do not like basketball = 1000 - 480 = 520 students\n",
      "\n",
      "Step 5: Determine the percentage of students who do not like to play basketball.\n",
      "Percentage of students who do not like basketball = (Total students who do not like basketball / Total students) * 100%\n",
      "Percentage of students who do not like basketball = (520 / 1000) * 100% = 52%\n",
      "\n",
      "Therefore, 52% of the student population do not like to play basketball.\n",
      "\n",
      "The final answer is \\boxed{52}.\n",
      "\n",
      "The answer is: 52. \n",
      "\n",
      "\n"
     ]
    }
   ],
   "source": [
    "# longest answer \n",
    "instance = sorted_data[-1]\n",
    "\n",
    "chats = [instance[\"question\"]]\n",
    "responses = utils.sample_answers(\n",
    "    tokenizer,\n",
    "    model,\n",
    "    chats,\n",
    "    **generation_config,\n",
    ")\n",
    "print(responses[0])"
   ]
  },
  {
   "cell_type": "code",
   "execution_count": 22,
   "metadata": {},
   "outputs": [
    {
     "name": "stdout",
     "output_type": "stream",
     "text": [
      "Prediction -> <INVALID_ANSWER>\n",
      "Label -> 52\n"
     ]
    }
   ],
   "source": [
    "answer = instance[\"answer_str_digit\"] \n",
    "prediction =  utils.GSM8KParser.get_answer_from_pred(responses[0])[\"answer_str_digit\"]\n",
    "\n",
    "print(f\"Prediction -> {prediction}\")\n",
    "print(f\"Label -> {answer}\")"
   ]
  },
  {
   "cell_type": "code",
   "execution_count": 32,
   "metadata": {},
   "outputs": [
    {
     "name": "stdout",
     "output_type": "stream",
     "text": [
      "400+80=480\n",
      "1000-480=520\n",
      "2/3*600=400\n",
      "3*200/=600\n",
      "1000/5=200\n",
      "520/1000*100=52\n",
      "2*200/=400\n",
      "1/5*400=80\n",
      "3+2=5\n"
     ]
    }
   ],
   "source": [
    "parsed_eqs = utils.GSM8KParser.parse_equations_from_pred(responses[0])[\"equations\"]\n",
    "\n",
    "# noticed how in this case the *100% is not captured \n",
    "for equation in parsed_eqs:\n",
    "    print(equation)"
   ]
  },
  {
   "cell_type": "code",
   "execution_count": 31,
   "metadata": {},
   "outputs": [
    {
     "name": "stdout",
     "output_type": "stream",
     "text": [
      "2/3 * 600 = 400\n",
      "(520 / 1000) * 100% = 52\n",
      "1000 / 5 = 200\n",
      "400 + 80 = 480\n",
      "1000 - 480 = 520\n",
      "3 parts * 200 students/part = 600\n",
      "2 parts * 200 students/part = 400\n",
      "3 (male) + 2 (female) = 5\n",
      "1/5 * 400 = 80\n"
     ]
    }
   ],
   "source": [
    "parsed_eqs = utils.GSM8KParser.parse_equations_from_pred(responses[0], include_text=True)[\"equations\"]\n",
    "# this time a text-inclusive parser provides much better extraction in terms of \n",
    "# numerical operations required, as well as units, augmenting the amount of reasoning \n",
    "# related information captured \n",
    "for equation in parsed_eqs:\n",
    "    print(equation)"
   ]
  },
  {
   "cell_type": "markdown",
   "metadata": {},
   "source": [
    "# A Note on the base model's performance \n",
    "*** \n",
    "\n",
    "Two observations from model vibe checking: \n",
    "- **The model's performance decreases as the number of hops required to solve the problem increases. Starting at 90% on 2 hops and drcreases to 50% on 9 hops**  \n",
    "- It's already solving GSM8K very well 82.5% on 1188 test instances (As pointed out in readme, we have 1188 test instances which is 90% of test)\n",
    "- Many failure stems from getting the result correct but not being able to submit the final pattern ```### <DIGIT>``` at the end. This makes sense since the model is quite small in size and it's a specialised reasoning model, thus may not be comparable with larger models i.e. Llama-7B in terms of the instruction-following ability. \n",
    "\n",
    "Another insight is that despite being specifically instructed using ```prompt.EvalTemplateExp```, the model can not generate ```<< equation >>```patterns.\n",
    "\n",
    "That siad, before we move onto the synthetic data generation, we would like to take a look at the performance of the base model, this would help us collect more intuition on how to train the model and what parts of the dataset we should focus on to generate synthetic data. \n"
   ]
  },
  {
   "cell_type": "markdown",
   "metadata": {},
   "source": [
    "Command\n",
    "\n",
    "```bash \n",
    "accelerate launch lora.py --evaluate --model-name \"microsoft/Phi-3.5-mini-instruct\" --no-train\n",
    "```"
   ]
  },
  {
   "cell_type": "code",
   "execution_count": 2,
   "metadata": {},
   "outputs": [
    {
     "name": "stdout",
     "output_type": "stream",
     "text": [
      "### Experiment:baseline\n",
      "### Mean Maj@1 0.8257575757575758\n"
     ]
    },
    {
     "data": {
      "text/html": [
       "<div>\n",
       "<style scoped>\n",
       "    .dataframe tbody tr th:only-of-type {\n",
       "        vertical-align: middle;\n",
       "    }\n",
       "\n",
       "    .dataframe tbody tr th {\n",
       "        vertical-align: top;\n",
       "    }\n",
       "\n",
       "    .dataframe thead th {\n",
       "        text-align: right;\n",
       "    }\n",
       "</style>\n",
       "<table border=\"1\" class=\"dataframe\">\n",
       "  <thead>\n",
       "    <tr style=\"text-align: right;\">\n",
       "      <th></th>\n",
       "      <th>maj_1s</th>\n",
       "    </tr>\n",
       "    <tr>\n",
       "      <th>num_hops</th>\n",
       "      <th></th>\n",
       "    </tr>\n",
       "  </thead>\n",
       "  <tbody>\n",
       "    <tr>\n",
       "      <th>2</th>\n",
       "      <td>0.900344</td>\n",
       "    </tr>\n",
       "    <tr>\n",
       "      <th>3</th>\n",
       "      <td>0.832335</td>\n",
       "    </tr>\n",
       "    <tr>\n",
       "      <th>4</th>\n",
       "      <td>0.808824</td>\n",
       "    </tr>\n",
       "    <tr>\n",
       "      <th>5</th>\n",
       "      <td>0.787500</td>\n",
       "    </tr>\n",
       "    <tr>\n",
       "      <th>6</th>\n",
       "      <td>0.733333</td>\n",
       "    </tr>\n",
       "    <tr>\n",
       "      <th>7</th>\n",
       "      <td>0.735294</td>\n",
       "    </tr>\n",
       "    <tr>\n",
       "      <th>8</th>\n",
       "      <td>0.700000</td>\n",
       "    </tr>\n",
       "    <tr>\n",
       "      <th>9</th>\n",
       "      <td>0.500000</td>\n",
       "    </tr>\n",
       "  </tbody>\n",
       "</table>\n",
       "</div>"
      ],
      "text/plain": [
       "            maj_1s\n",
       "num_hops          \n",
       "2         0.900344\n",
       "3         0.832335\n",
       "4         0.808824\n",
       "5         0.787500\n",
       "6         0.733333\n",
       "7         0.735294\n",
       "8         0.700000\n",
       "9         0.500000"
      ]
     },
     "execution_count": 2,
     "metadata": {},
     "output_type": "execute_result"
    }
   ],
   "source": [
    "paths_to_compare = {\n",
    "    \"baseline\": \"results/results_microsoft-Phi-3.5-mini-instruct_.csv\",\n",
    "}\n",
    "\n",
    "datas = {k : pd.read_csv(v) for k, v  in paths_to_compare.items()}\n",
    "\n",
    "for k, v in datas.items(): \n",
    "    mean_ = v[\"maj_1s\"].mean()\n",
    "    print(f\"### Experiment:{k}\\n### Mean Maj@1 {mean_}\")\n",
    "\n",
    "    name = paths_to_compare[k].strip(\"_.csv\")\n",
    "\n",
    "    v[\"num_hops\"] = v[\"ground_truth_completions\"].apply(lambda x: utils.GSM8KParser.get_num_hops(x)[\"num_hops\"])\n",
    "\n",
    "v.groupby(\"num_hops\")[[\"maj_1s\"]].mean()"
   ]
  },
  {
   "cell_type": "code",
   "execution_count": 4,
   "metadata": {},
   "outputs": [
    {
     "data": {
      "text/html": [
       "<div>\n",
       "<style scoped>\n",
       "    .dataframe tbody tr th:only-of-type {\n",
       "        vertical-align: middle;\n",
       "    }\n",
       "\n",
       "    .dataframe tbody tr th {\n",
       "        vertical-align: top;\n",
       "    }\n",
       "\n",
       "    .dataframe thead th {\n",
       "        text-align: right;\n",
       "    }\n",
       "</style>\n",
       "<table border=\"1\" class=\"dataframe\">\n",
       "  <thead>\n",
       "    <tr style=\"text-align: right;\">\n",
       "      <th></th>\n",
       "      <th>maj_1s</th>\n",
       "    </tr>\n",
       "    <tr>\n",
       "      <th>num_hops</th>\n",
       "      <th></th>\n",
       "    </tr>\n",
       "  </thead>\n",
       "  <tbody>\n",
       "    <tr>\n",
       "      <th>2</th>\n",
       "      <td>291</td>\n",
       "    </tr>\n",
       "    <tr>\n",
       "      <th>3</th>\n",
       "      <td>334</td>\n",
       "    </tr>\n",
       "    <tr>\n",
       "      <th>4</th>\n",
       "      <td>272</td>\n",
       "    </tr>\n",
       "    <tr>\n",
       "      <th>5</th>\n",
       "      <td>160</td>\n",
       "    </tr>\n",
       "    <tr>\n",
       "      <th>6</th>\n",
       "      <td>75</td>\n",
       "    </tr>\n",
       "    <tr>\n",
       "      <th>7</th>\n",
       "      <td>34</td>\n",
       "    </tr>\n",
       "    <tr>\n",
       "      <th>8</th>\n",
       "      <td>20</td>\n",
       "    </tr>\n",
       "    <tr>\n",
       "      <th>9</th>\n",
       "      <td>2</td>\n",
       "    </tr>\n",
       "  </tbody>\n",
       "</table>\n",
       "</div>"
      ],
      "text/plain": [
       "          maj_1s\n",
       "num_hops        \n",
       "2            291\n",
       "3            334\n",
       "4            272\n",
       "5            160\n",
       "6             75\n",
       "7             34\n",
       "8             20\n",
       "9              2"
      ]
     },
     "execution_count": 4,
     "metadata": {},
     "output_type": "execute_result"
    }
   ],
   "source": [
    "v.groupby(\"num_hops\")[[\"maj_1s\"]].count()"
   ]
  },
  {
   "cell_type": "markdown",
   "metadata": {},
   "source": [
    "As we can see, the model's performance declines as the number of required hops increases, giving us stronger evidence that exploiting quesitons requiring long-hoped solution might be a good idea. "
   ]
  },
  {
   "cell_type": "markdown",
   "metadata": {},
   "source": [
    "# Generate Synthetic Data \n",
    "*** \n",
    "\n",
    "In total, I've generated 681 successful (favore, infavored) paris of question and answer. \n",
    "\n",
    "Below are 5 steps getting us there: \n",
    "The below process are orchestrated by the ```generate.generate_synthetic_data``` function. \n",
    "\n",
    "1. We sort the dataset in descending order in terms of the numbers of hops required to solve the problem \n",
    "\n",
    "\n",
    "    ```python\n",
    "    train_dataset = train_dataset.map(\n",
    "        lambda x: GSM8KParser.get_num_hops(x['answer'])\n",
    "    )\n",
    "    sorted_train_dataset = train_dataset.sort(column_names=\"num_hops\", reverse=True)\n",
    "    # select the top-K instances for rejection sampling\n",
    "    top_k_train_dataset = sorted_train_dataset.select(\n",
    "        range(\n",
    "            int(\n",
    "                len(sorted_train_dataset)*args.reject_sampling_percentage\n",
    "            )\n",
    "        )\n",
    "    )\n",
    "    TopKTrainData = GSM8KDataset(top_k_train_dataset, tokenizer)\n",
    "    ```\n",
    "\n",
    "\n",
    "2. Then we generate 747 * 5 output token ids (for each question we sample 5 times) using the ```generation.get_generations``` and save them. \n",
    "\n",
    "3. We then decode all of these 747 * 5 tensors and save the answers in text. \n",
    "\n",
    "4. We go through each single of 5 answers and do the following steps: \n",
    "    - (1) remove wrong or exaclty the same answers (ref.```generations._filter_completions```)\n",
    "        - We move on to the next 5 answers if no correct answers were found\n",
    "\n",
    "    - (2) Parse equations from each of those 5 answers: (ref.```generations._filter_completions```)\n",
    "    \n",
    "    - (3) Compute a utility score for each of those 5 answers based on equations parsed by (ref. ```generations._socre_equations```). We also calculate the \"favored_infavored_gaps\", which is the difference between the maximum utility and the minimum utility across unique answers for a particular question. \n",
    "\n",
    "    - (4) We pick the question maximising and minizing such utility as favored and infavored answers respectively. (We also keep a record of those wrong answers)\n",
    "\n",
    "5. We return the new dataset consisting of 681 pairs of favored and infavored answers (681/747 ~= 91%), after rejecting 66 instances \n",
    "    \n",
    "    ```python \n",
    "    dataset = datasets.Dataset.from_dict(\n",
    "            {\n",
    "                \"question\": questions,\n",
    "                \"question_idx\": questions_idx, #QUESTION IDX in the sorted dataset!\n",
    "                \"favored_solutions\": favored_solutions,\n",
    "                \"infavored_solutions\": infavored_solutions,\n",
    "                \"wrong_solutions\": wrong_solutions,\n",
    "                \"favored_infavored_gaps\":gaps,\n",
    "            }\n",
    "        )\n",
    "    ```\n",
    "\n",
    "A special note on the utility function: \n",
    "\n",
    "We compute utility metric by using a weighted average of the sum of the levenshiten distance and the length of the equation strings. What do I mean exactly? Here is an example: \n",
    "\n",
    "\n",
    "Imagaine that we have a question $q$, giving us four answers ${a_1, a_2, a_3, a_4}$. Each answer would give us a list of equations, representing any numerical operations required to reach the intended state. The list is sorted in the intended sequence of operations. i.e. \n",
    "\n",
    "e1: 1 + 1 = 2 \n",
    "\n",
    "e2: 2 * 2 = 4 \n",
    "\n",
    "e3: 4 + 5 = 9 \n",
    "\n",
    "e4: 9 * 2 = 18\n",
    "\n",
    "so my list is [\"1+1=2\", \"2 * 2 = 4\", \"4 + 5 = 9\", \"9 * 2 = 18\"]\n",
    "\n",
    "What we do is that we first join all equations for each answer together into a string -> \"1+1=2 2 * 2 = 4 4 + 5 = 9 .... \"\n",
    "\n",
    "We now ended up with three strings: ${s_1, s_2, s_3, s_4}$\n",
    "\n",
    "The utility for a_1 is calculated as follow: \n",
    "1. Compute the sum of the Levenshtein distance from $s_1$ to $s_2$, $s_3$ and $s_4$, and do this for $s_2$, $s_3$ and $s_4$ as well. We obtain four sum of distances: $ss_1$, $ss_2$, $ss_3$ and $ss_4$. \n",
    "\n",
    "2. Normalise such distance by the maximum amoung $ss_1$, $ss_2$, $ss_3$ and $ss_4$, noted the maximum as $m$\n",
    "\n",
    "3. Compute the length for ${s_1, s_2, s_3, s_4}$ respectively and normalise them by the maximum length. Noted as: \n",
    "${ll_1, ll_2, ll_3, ll_4}$.\n",
    "\n",
    "3. The utility of $a_1$ is: \n",
    "\n",
    "$$ \\beta_1 * \\frac{ss_1}{m} + (1 - \\beta_1) * ll_{1}$$\n",
    "\n",
    "In general: \n",
    "\n",
    "$$U(a_{i}) =  \\beta_1 * \\frac{\\sum_{j}{D(s_i, s_{j \\neq i})}}{\\max_i{\\sum_{j}{D(s_i, s_{j \\neq i})}}}  +  (1 - \\beta_1) * ll_{i} $$"
   ]
  },
  {
   "cell_type": "markdown",
   "metadata": {},
   "source": [
    "With the following command, we can generate a dataset named ```corrected-pred-parser-0.5lev-0.5leneq-gsm8k_synthetic_data_747instances_5samples``` in the datasets directory, representing that we put equal weights on the pair-wise levenshtein distance and equation lengths. \n",
    "\n",
    "```bash \n",
    "python generation.py \\\n",
    "    --generation-path \"generations/gsm8k_synthetic_data_747instances_5samples_generations\" \\\n",
    "    --run-name \"corrected-pred-parser-0.5lev-0.5leneq-\" \\\n",
    "    --beta-1 0.5 \\\n",
    "```\n",
    "\n",
    "Let's have a a look at the dataset "
   ]
  },
  {
   "cell_type": "code",
   "execution_count": 37,
   "metadata": {},
   "outputs": [
    {
     "name": "stdout",
     "output_type": "stream",
     "text": [
      "question\n",
      "**************\n",
      "Tom wants to make the world's largest dough ball.  He needs 500 pounds of flour and he can buy 50-pound bags of flour for $20.  He also needs 10 pounds of salt and salt cost $.2 a pound.  He also spends $1000 promoting everything.  He then sells tickets for $20 each and sells 500 tickets.  How much money did he make?\n",
      "question_idx\n",
      "**************\n",
      "384\n",
      "favored_solutions\n",
      "**************\n",
      "Let's break down the problem step by step:\n",
      "\n",
      "1. Calculate the cost of flour:\n",
      "   Tom needs 500 pounds of flour, and each 50-pound bag costs $20.\n",
      "   Number of bags needed = 500 pounds / 50 pounds per bag = 10 bags\n",
      "   Cost of flour = 10 bags * $20 per bag = $200\n",
      "\n",
      "2. Calculate the cost of salt:\n",
      "   Tom needs 10 pounds of salt, and salt costs $0.2 per pound.\n",
      "   Cost of salt = 10 pounds * $0.2 per pound = $2\n",
      "\n",
      "3. Calculate the total cost of ingredients and promotion:\n",
      "   Total cost = Cost of flour + Cost of salt + Promotion cost\n",
      "   Total cost = $200 + $2 + $1000 = $1202\n",
      "\n",
      "4. Calculate the revenue from ticket sales:\n",
      "   Tom sells 500 tickets at $20 each.\n",
      "   Revenue = 500 tickets * $20 per ticket = $10000\n",
      "\n",
      "5. Calculate the profit:\n",
      "   Profit = Revenue - Total cost\n",
      "   Profit = $10000 - $1202 = $8798\n",
      "\n",
      "#### 8798\n",
      "infavored_solutions\n",
      "**************\n",
      "First, calculate the cost of flour: (500 pounds / 50 pounds per bag) * $20 per bag = 10 * $20 = $200.\n",
      "Next, calculate the cost of salt: 10 pounds * $0.2 per pound = $2.\n",
      "Now, add the promotional expenses: $200 (flour) + $2 (salt) + $1000 (promotion) = $1202.\n",
      "Then, calculate the total revenue from ticket sales: 500 tickets * $20 per ticket = $10000.\n",
      "Finally, subtract the total expenses from the total revenue to find the profit: $10000 (revenue) - $1202 (expenses) = $8798.\n",
      "#### 8798\n",
      "wrong_solutions\n",
      "**************\n",
      "First, calculate the cost of flour: (500 pounds / 50 pounds per bag) * $20 per bag.\n",
      "Then, calculate the cost of salt: 10 pounds * $0.2 per pound.\n",
      "Next, add the cost of promoting: $1000.\n",
      "Now, calculate the revenue from ticket sales: 500 tickets * $20 per ticket.\n",
      "Finally, subtract the total costs from the total revenue to find the money made:\n",
      "Total Revenue - Total Costs = Money Made\n",
      "\n",
      "(500/50)*20 + (10*0.2) + 1000 - (500*20) = Money Made\n",
      "\n",
      "Solving the equation:\n",
      "10*20 + 2 + 1000 - 10000 = Money Made\n",
      "200 + 2 + 1000 - 10000 = Money Made\n",
      "1202 - 10000 = Money Made\n",
      "-8798 = Money Made\n",
      "\n",
      "Since Tom cannot make a negative amount of money, we conclude that he lost money. Therefore, the answer is:\n",
      "#### -8798\n",
      "favored_infavored_gaps\n",
      "**************\n",
      "321.0\n",
      "**************************************************\n"
     ]
    }
   ],
   "source": [
    "gen_dataset = datasets.load_from_disk(\"datasets/corrected-pred-parser-0.5lev-0.5leneq-gsm8k_synthetic_data_747instances_5samples\")\n",
    "gen_dataset = gen_dataset.sort(column_names=\"favored_infavored_gaps\", reverse=True)\n",
    "utils.inspect_instance(gen_dataset, 0)"
   ]
  },
  {
   "cell_type": "code",
   "execution_count": 40,
   "metadata": {},
   "outputs": [
    {
     "name": "stdout",
     "output_type": "stream",
     "text": [
      "question\n",
      "**************\n",
      "Kyle bakes 60 cookies and 32 brownies. Kyle eats 2 cookies and 2 brownies. Kyle's mom eats 1 cookie and 2 brownies. If Kyle sells a cookie for $1 and a brownie for $1.50, how much money will Kyle make if he sells all of his baked goods?\n",
      "question_idx\n",
      "**************\n",
      "282\n",
      "favored_solutions\n",
      "**************\n",
      "To find out how much money Kyle will make, we first need to calculate the number of cookies and brownies left after some are eaten, and then multiply those numbers by their respective prices.\n",
      "\n",
      "Step 1: Calculate the remaining cookies and brownies.\n",
      "Kyle's remaining cookies: 60 (initial) - 2 (Kyle) - 1 (mom) = 57 cookies\n",
      "Kyle's remaining brownies: 32 (initial) - 2 (Kyle) - 2 (mom) = 28 brownies\n",
      "\n",
      "Step 2: Calculate the total money from selling the remaining cookies and brownies.\n",
      "Money from cookies: 57 cookies * $1/cookie = $57\n",
      "Money from brownies: 28 brownies * $1.50/brownie = $42\n",
      "\n",
      "Step 3: Add the money from cookies and brownies to find the total.\n",
      "Total money: $57 (cookies) + $42 (brownies) = $99\n",
      "\n",
      "The final answer is: #### 99\n",
      "infavored_solutions\n",
      "**************\n",
      "First, calculate the remaining cookies and brownies after Kyle and his mom eat some:\n",
      "\n",
      "Cookies: 60 - 2 (Kyle) - 1 (Mom) = 57 cookies\n",
      "Brownies: 32 - 2 (Kyle) - 2 (Mom) = 28 brownies\n",
      "\n",
      "Next, calculate the total money from selling the remaining cookies and brownies:\n",
      "\n",
      "Cookies: 57 cookies * $1/cookie = $57\n",
      "Brownies: 28 brownies * $1.50/brownie = $42\n",
      "\n",
      "Finally, add the money from cookies and brownies to find the total money Kyle will make:\n",
      "\n",
      "Total money = $57 (cookies) + $42 (brownies) = $99\n",
      "\n",
      "#### 99\n",
      "wrong_solutions\n",
      "**************\n",
      "First, calculate the total number of cookies and brownies left after Kyle and his mom eat some: (60 - 2 - 1) cookies and (32 - 2 - 2) brownies. Then, find the total money made by multiplying the remaining number of cookies and brownies by their respective prices and adding the results: (47 cookies * $1) + (28 brownies * $1.50). Finally, present the answer in the required format.\n",
      "\n",
      "Calculations: 47 * 1 + 28 * 1.5 = 47 + 42 = 89\n",
      "\n",
      "#### 89\n",
      "favored_infavored_gaps\n",
      "**************\n",
      "235.0\n",
      "**************************************************\n"
     ]
    }
   ],
   "source": [
    "utils.inspect_instance(gen_dataset, 2)"
   ]
  },
  {
   "cell_type": "code",
   "execution_count": 39,
   "metadata": {},
   "outputs": [
    {
     "name": "stdout",
     "output_type": "stream",
     "text": [
      "question\n",
      "**************\n",
      "A farm has 5 less than 9 times the amount of hens as roosters.  If there are 75 total chickens, how many hens are there?\n",
      "question_idx\n",
      "**************\n",
      "161\n",
      "favored_solutions\n",
      "**************\n",
      "Let H represent the number of hens and C represent the number of roosters. According to the given information, we can write two equations:\n",
      "\n",
      "1. H = 9C - 5 (5 less than 9 times the amount of hens as roosters)\n",
      "2. H + C = 75 (total chickens)\n",
      "\n",
      "Now, we can substitute the first equation into the second equation to solve for C:\n",
      "\n",
      "(9C - 5) + C = 75\n",
      "\n",
      "Combine like terms:\n",
      "\n",
      "10C - 5 = 75\n",
      "\n",
      "Add 5 to both sides:\n",
      "\n",
      "10C = 80\n",
      "\n",
      "Now, divide both sides by 10:\n",
      "\n",
      "C = 8\n",
      "\n",
      "Now that we have the number of roosters, we can find the number of hens by substituting C back into the first equation:\n",
      "\n",
      "H = 9(8) - 5\n",
      "\n",
      "H = 72 - 5\n",
      "\n",
      "H = 67\n",
      "\n",
      "#### 67\n",
      "infavored_solutions\n",
      "**************\n",
      "Let H represent the number of hens and C represent the number of roosters. According to the problem, we have:\n",
      "\n",
      "1) H = 9C - 5 (5 less than 9 times the amount of hens as roosters)\n",
      "2) H + C = 75 (total chickens)\n",
      "\n",
      "First, we can substitute the expression for H from equation (1) into equation (2):\n",
      "\n",
      "(9C - 5) + C = 75\n",
      "\n",
      "Combine like terms:\n",
      "\n",
      "10C - 5 = 75\n",
      "\n",
      "Now solve for C:\n",
      "\n",
      "10C = 80\n",
      "C = 8\n",
      "\n",
      "Now we can find the number of hens (H) using the expression from equation (1):\n",
      "\n",
      "H = 9C - 5\n",
      "H = 9(8) - 5\n",
      "H = 72 - 5\n",
      "H = 67\n",
      "\n",
      "#### 67\n",
      "wrong_solutions\n",
      "**************\n",
      "<NOWRONG SOLUTION>\n",
      "favored_infavored_gaps\n",
      "**************\n",
      "97.0\n",
      "**************************************************\n"
     ]
    }
   ],
   "source": [
    "utils.inspect_instance(gen_dataset, 10)"
   ]
  },
  {
   "cell_type": "markdown",
   "metadata": {},
   "source": [
    "**As we can see, when the ```favored_infavored_gaps``` is large, the favored solution is clearly better and follows a more structured path. When the gap closes, their reasoning paths quiclkly converge.**"
   ]
  },
  {
   "cell_type": "markdown",
   "metadata": {
    "id": "Eynvcw7sdau5"
   },
   "source": [
    "# Training\n",
    "***\n",
    "\n",
    "Employ whatever trick you would like to reduce the VRAM requirements during training (including swapping the model for a smaller one, although please only as a last resort)."
   ]
  },
  {
   "cell_type": "markdown",
   "metadata": {},
   "source": [
    "We attempted training two training paradigms on using Loss on Completion only (the ISFT setup)\n",
    "\n",
    "1. Train only the synthetic dataset (we focus most on this)\n",
    "\n",
    "2. Train on the union of the original training dataset and the synthetic dataset (we relace the original training dataset with the synthetic dataset on the overlapping part and also attempted a weighted training ```lora.WeightedTrainer```)\n",
    "\n",
    "We find that training on just the synthetic dataset works the best. This makes since with our hypothesis that the model is already very good on the original dataset and kept training will likely resulting in overfitting. \n",
    "\n",
    "First, let's look at our LoRA setup: \n",
    "\n",
    "### LoRA \n",
    "\n",
    "```python\n",
    "@dataclass\n",
    "class LoraLayersConfig:\n",
    "    \n",
    "    task_type: TaskType = TaskType.CAUSAL_LM\n",
    "    \"\"\"Task type for LoRA training\"\"\"\n",
    "    \n",
    "    r: int = 16\n",
    "    \"\"\"\"Rank of the LoRa matrices\"\"\"\n",
    "    \n",
    "    lora_alpha: int = int(r*0.8)\n",
    "    \"\"\"\"Scaling factor\"\"\"\n",
    "    \n",
    "    use_rslora:bool = True \n",
    "    \"\"\"\"\n",
    "    #https://arxiv.org/pdf/2312.03732 sugges that rslora would \n",
    "    # yield better distinction when ranks go up\n",
    "    \"\"\"\n",
    "\n",
    "    lora_dropout: float = 0.1\n",
    "    \"\"\"\"Dropout probability for LoRA layers\"\"\"\n",
    "\n",
    "    bias: str = \"none\"\n",
    "    \"\"\"\"Whether to include bias in LoRA layers\"\"\"\n",
    "\n",
    "lora_config = LoraConfig(\n",
    "    target_modules = [\n",
    "        \"gate_proj\", \n",
    "        \"down_proj\", \n",
    "        \"up_proj\",\n",
    "        \"k_proj\", \n",
    "        \"q_proj\", \n",
    "        \"v_proj\", \n",
    "        \"o_proj\", \n",
    "    ],\n",
    "    **LoraLayersConfig().__dict__,\n",
    ")\n",
    "``` \n",
    "\n",
    "During training on the Synthetic dataset, we use a r=16 and alpha=13 (80% of rank), which is somewhere btween 2-fold and 0.5-fold scaling. We enable [Rank Stablised LoR](https://arxiv.org/pdf/2312.03732) to make the training more sensitive to the change of the rank, helping us to explore different ranks effectively. \n",
    "\n",
    "We adapt our positional feed forward layers and attention layers in the based network. \n",
    "\n",
    "### Quantization \n",
    "We use 4-bit quantization with double quantization enabled. (Compute still happens in bfloat16) \n",
    "\n",
    "```Python\n",
    "bb_config = BitsAndBytesConfig(\n",
    "            load_in_4bit=True,\n",
    "            bnb_4bit_quant_type=\"nf4\",\n",
    "            bnb_4bit_use_double_quant=True,\n",
    "            bnb_4bit_compute_dtype=torch.bfloat16,\n",
    "        )\n",
    "``` \n",
    "\n",
    "### DeepSpeed \n",
    "We enabled cpu offloading to further optimize memory.\n",
    "\n",
    "```YAML \n",
    "compute_environment: LOCAL_MACHINE\n",
    "debug: false\n",
    "deepspeed_config:\n",
    "  gradient_accumulation_steps: 2\n",
    "  gradient_clipping: 1.0\n",
    "  offload_optimizer_device: cpu\n",
    "  offload_param_device: cpu\n",
    "  zero3_init_flag: true\n",
    "  zero3_save_16bit_model: true\n",
    "  zero_stage: 3\n",
    "distributed_type: DEEPSPEED\n",
    "downcast_bf16: 'no'\n",
    "enable_cpu_affinity: false\n",
    "machine_rank: 0\n",
    "main_training_function: main\n",
    "mixed_precision: bf16\n",
    "num_machines: 1\n",
    "num_processes: 1\n",
    "rdzv_backend: static\n",
    "same_network: true\n",
    "tpu_env: []\n",
    "tpu_use_cluster: false\n",
    "tpu_use_sudo: false\n",
    "use_cpu: false\n",
    "```\n",
    "\n",
    "## Grad Acumulation \n",
    "We set gradient accumulation = 2 for training with the original dataset jointly and turn off the grad accumulation when training just on the generated dataset. Since we are using batch size = 32. Our effective batch size is 64 when we turn on gradient accumulation. \n",
    "\n",
    "\n",
    "## Adam 8Bit Optimizer\n",
    "We use Adam 8Bit Optimizer to reduce VRAM occupation. "
   ]
  },
  {
   "cell_type": "markdown",
   "metadata": {
    "id": "VlAK9jEqkqEm"
   },
   "source": [
    "### Reproduce the best model\n",
    "\n",
    "You may use the following command to reproduce the best model that we have: \n",
    "\n",
    "```bash\n",
    "accelerate launch --train --run-name \"models/[beta1(0.5)-equation-without-text]-[attn-ffn]-[16r-12alpha]-[lr1e-03-gradacum1]-[componly]-[rftdataonly]--\" --no-evaluate --rft-data-path \"datasets/corrected-pred-parser-0.5lev-0.5leneq-gsm8k_synthetic_data_747instances_5samples\" --use_rft_data_only\n",
    "```"
   ]
  },
  {
   "cell_type": "markdown",
   "metadata": {},
   "source": [
    "### WandB Report \n",
    "\n",
    "- Link to the report for training using only the Synthetic dataset : https://api.wandb.ai/links/moed/xcp8fqux\n",
    "- Link to the report for training using the union of the Synthetic dataset and the original dataset (we replace the overlap with the Synthetic dataset): \n",
    "    https://api.wandb.ai/links/moed/rfsos5p5"
   ]
  },
  {
   "cell_type": "markdown",
   "metadata": {
    "id": "tl8nfP8Hdsxf"
   },
   "source": [
    "# Evaluating the Model\n",
    "*** \n",
    "\n",
    "This final part is more free-form. We'd like to evaluate our new model on the test set to see if it's improved, but then spend however much time you have left examining the model more closely / demonstrating some interesting behaviour / showing off beautiful plots.\n"
   ]
  },
  {
   "cell_type": "markdown",
   "metadata": {},
   "source": [
    "## Evaluate LoRA adapation purely based on generated data \n",
    "\n",
    "Recall the $\\beta_1$ parameter that we used to adjust the weight on Levenshiten Distance and Equation Length. Here we did some exploratory attempt in finding out the best $\\beta_1$ parameter. We find that 0.5 is a good value for our model, comparing to fully relying on the Levenshiten Distance.\n",
    "\n",
    "**However, we also acknolwedge the fact that the model does not get better in solving questions requiring mode then 7 hops. This goes against our expectation that a selected curriculum on long-hop answers should be more effective in helping the model to solve long-hop problems the most. In this case, the shorter-hop problems benefit the most.**\n",
    "\n",
    "Although, one possible cause is the fact that low-rank space (16) is not large enough to store such information to support long-trajectory reasoning, I defer to further investigation on the individual failure cases and to understand the failure behaviour better. For example, whether the faiulre occurs at reasoning using language more (i.e. one plus five equals to three) or occurs at using numbers and signs more (i.e. 5 * 3 = 150). \n",
    "\n",
    "Evaluate our best model:\n",
    "\n",
    "```bash\n",
    "accelerate launch lora.py --no-train --model-name \"models/[beta1(0.5)-equation-without-text]-[attn-ffn]-[16r-12alpha]-[lr1e-03-gradacum1]-[componly]-[rftdataonly]-qlora_rft_747instances/checkpoint-22\" --evaluate\n",
    "``` \n",
    "\n",
    "Evaluation stroed at ```results/models-[beta1(0.5)-equation-without-text]-[attn-ffn]-[16r-12alpha]-[lr1e-03-gradacum1]-[componly]-[rftdataonly]-qlora_rft_747instances-checkpoint-22_.csv``` "
   ]
  },
  {
   "cell_type": "code",
   "execution_count": 5,
   "metadata": {},
   "outputs": [
    {
     "name": "stdout",
     "output_type": "stream",
     "text": [
      "### Dataset:baseline\n",
      "### Mean Maj@1 0.8257575757575758\n",
      "\n",
      "### Dataset:beta_0.5_pure_equation\n",
      "### Mean Maj@1 0.8602693602693603\n",
      "\n",
      "### Dataset:beta_1.0_pure_equation\n",
      "### Mean Maj@1 0.8459595959595959\n",
      "\n",
      "### Dataset:beta_0.5_text_equation\n",
      "### Mean Maj@1 0.8569023569023569\n",
      "\n",
      "### Dataset:beta_1.0_text_equation\n",
      "### Mean Maj@1 0.8560606060606061\n",
      "\n"
     ]
    },
    {
     "data": {
      "text/plain": [
       "<Axes: xlabel='num_hops'>"
      ]
     },
     "execution_count": 5,
     "metadata": {},
     "output_type": "execute_result"
    },
    {
     "data": {
      "image/png": "[encoded data removed]",
      "text/plain": [
       "<Figure size 640x480 with 2 Axes>"
      ]
     },
     "metadata": {},
     "output_type": "display_data"
    }
   ],
   "source": [
    "\n",
    "paths_to_compare = {\n",
    "    \"baseline\": \"results/results_microsoft-Phi-3.5-mini-instruct_.csv\",\n",
    "    \"beta_0.5_pure_equation\": \"results/models-[beta1(0.5)-equation-without-text]-[attn-ffn]-[16r-12alpha]-[lr1e-03-gradacum1]-[componly]-[rftdataonly]-qlora_rft_747instances-checkpoint-22_.csv\",\n",
    "    \"beta_1.0_pure_equation\": \"results/models-[beta1(1)-equation-without-text]-[attn-ffn]-[16r-12alpha]-[lr1e-03-gradacum1]-[componly]-[rftdataonly]-qlora_rft_747instances-checkpoint-22_.csv\",\n",
    "    \"beta_0.5_text_equation\": \"results/models-[beta1(0.5)-equation-with-text]-[attn-ffn]-[16r-12alpha]-[lr1e-03-gradacum1]-[componly]-[rftdataonly]-qlora_rft_747instances-checkpoint-22_.csv\",\n",
    "    \"beta_1.0_text_equation\": \"results/models-[beta1(1)-equation-with-text]-[attn-ffn]-[16r-12alpha]-[lr1e-03-gradacum1]-[componly]-[rftdataonly]-qlora_rft_747instances-checkpoint-22_.csv\",\n",
    "}\n",
    "\n",
    "datas = {k : pd.read_csv(v) for k, v  in paths_to_compare.items()}\n",
    "\n",
    "performances_by_hop_length = {}\n",
    "\n",
    "for k, v in datas.items(): \n",
    "    mean_ = v[\"maj_1s\"].mean()\n",
    "\n",
    "    v[\"num_hops\"] = v[\"ground_truth_completions\"].apply(lambda x: utils.GSM8KParser.get_num_hops(x)[\"num_hops\"])\n",
    "    performances_by_hop_length[k] = v.groupby(\"num_hops\")[\"maj_1s\"].mean()\n",
    "\n",
    "    print(f\"### Dataset:{k}\\n### Mean Maj@1 {mean_}\")\n",
    "    print()\n",
    "\n",
    "performances_by_hop_length_df = pd.DataFrame.from_dict(performances_by_hop_length)\n",
    "sns.heatmap(performances_by_hop_length_df.T, annot=True, cmap=\"Blues\", )"
   ]
  },
  {
   "cell_type": "markdown",
   "metadata": {},
   "source": [
    "## Evaluate the model trained on a Union of two datasets \n"
   ]
  },
  {
   "cell_type": "markdown",
   "metadata": {},
   "source": [
    "Though weighted joint training is marginally better then naive joint training, the same observation follows that the model's performance declines as the number of required hops increases. "
   ]
  },
  {
   "cell_type": "code",
   "execution_count": 6,
   "metadata": {},
   "outputs": [
    {
     "name": "stdout",
     "output_type": "stream",
     "text": [
      "### Dataset:baseline\n",
      "### Mean Maj@1 0.8257575757575758\n",
      "\n",
      "### Dataset:joint-train-weighted\n",
      "### Mean Maj@1 0.8156565656565656\n",
      "\n",
      "### Dataset:joint-train-unweighted\n",
      "### Mean Maj@1 0.8005050505050505\n",
      "\n"
     ]
    },
    {
     "data": {
      "text/plain": [
       "<Axes: xlabel='num_hops'>"
      ]
     },
     "execution_count": 6,
     "metadata": {},
     "output_type": "execute_result"
    },
    {
     "data": {
      "image/png": "[encoded data removed]",
      "text/plain": [
       "<Figure size 640x480 with 2 Axes>"
      ]
     },
     "metadata": {},
     "output_type": "display_data"
    }
   ],
   "source": [
    "paths_to_compare = {\n",
    "    \"baseline\": \"results/results_microsoft-Phi-3.5-mini-instruct_.csv\",\n",
    "    \"joint-train-weighted\": \"results/[attn-ffn]-lora-32r-25alpha-componly-uniondata-weighted-equationwithoutext-qlora_rft_747instances-checkpoint-117-_.csv\",\n",
    "    \"joint-train-unweighted\": \"results/results_models-[attn-ffn]-lora-32r-25alpha-componly-uniondata-qlora_rft_747instances-checkpoint-117_.csv\",\n",
    "}\n",
    "\n",
    "datas = {k : pd.read_csv(v) for k, v  in paths_to_compare.items()}\n",
    "\n",
    "performances_by_hop_length = {}\n",
    "\n",
    "for k, v in datas.items(): \n",
    "    mean_ = v[\"maj_1s\"].mean()\n",
    "\n",
    "    v[\"num_hops\"] = v[\"ground_truth_completions\"].apply(lambda x: utils.GSM8KParser.get_num_hops(x)[\"num_hops\"])\n",
    "    performances_by_hop_length[k] = v.groupby(\"num_hops\")[\"maj_1s\"].mean()\n",
    "\n",
    "    print(f\"### Dataset:{k}\\n### Mean Maj@1 {mean_}\")\n",
    "    print()\n",
    "\n",
    "performances_by_hop_length_df = pd.DataFrame.from_dict(performances_by_hop_length)\n",
    "sns.heatmap(performances_by_hop_length_df.T, annot=True, cmap=\"Blues\", )"
   ]
  },
  {
   "cell_type": "markdown",
   "metadata": {
    "id": "_7vm1ZTHw8E1"
   },
   "source": [
    "# [Optional] - Discussion\n",
    "\n",
    "We would be interested to know:\n",
    "\n",
    "1.   If you were less time / computationally constrained, what would you do differently?\n",
    "\n",
    "First of all, I want to spend more time making the equation parser better to support multi-line cases and be more restrictive on selecting the text span before and after the equation.\n",
    "\n",
    "Then, I would like to perform deeper evaluation on the fine-tuned model vs the baseline model to better understand the failure modes. Comparing the failed and succeeded generations, trying to understand what's missing from the generated data.\n",
    "\n",
    "Afterthat, I would run the evaluation on the entire test dataset and also try to include the maj@1 metric for us to observe during training. The loss function for code generation and math reasoning is usually only a source of reference, which could be misleading sometimes. For those problems, only a critical span of tokens really matters and the loss function could almost only tells you if the model has learned the \"vibe\" of the intended text. Thus a hard metric is more likely to give us the confirmation that a model has learned. Incoporating (Gold-fish)[https://arxiv.org/pdf/2406.10209] loss could also be interesting to play with. \n",
    "\n",
    "Last but not least, I am quite interested in trying another approach in selecting the curriculum/questions to participate the rejection sampling, that is $p(1-p)$, $p$ being the probability of successfully solving a question given a number of attempts. The intuition is simple, if I want to prioritize the questions which I am the most uncertain about. This approach has recently got some success in sampling Reinforcement Learning environments for Unsupervised Environment Design (https://arxiv.org/pdf/2408.15099).\n",
    "\n",
    "\n",
    "2.   What would your ideal first project look like if you joined?\n",
    "\n"
   ]
  },
  {
   "cell_type": "code",
   "execution_count": null,
   "metadata": {
    "id": "UXIw-pCiwGRk"
   },
   "outputs": [],
   "source": []
  }
 ],
 "metadata": {
  "accelerator": "GPU",
  "colab": {
   "gpuType": "T4",
   "provenance": []
  },
  "kernelspec": {
   "display_name": "cloudspace",
   "language": "python",
   "name": "python3"
  },
  "language_info": {
   "codemirror_mode": {
    "name": "ipython",
    "version": 3
   },
   "file_extension": ".py",
   "mimetype": "text/x-python",
   "name": "python",
   "nbconvert_exporter": "python",
   "pygments_lexer": "ipython3",
   "version": "3.10.10"
  }
 },
 "nbformat": 4,
 "nbformat_minor": 0
}
