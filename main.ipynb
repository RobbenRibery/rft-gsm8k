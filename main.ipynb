{
 "cells": [
  {
   "cell_type": "markdown",
   "metadata": {},
   "source": [
    "# RFT - GMS8K \n",
    "- Candidate: Eric Liu "
   ]
  },
  {
   "cell_type": "code",
   "execution_count": 21,
   "metadata": {},
   "outputs": [
    {
     "name": "stdout",
     "output_type": "stream",
     "text": [
      "The autoreload extension is already loaded. To reload it, use:\n",
      "  %reload_ext autoreload\n"
     ]
    }
   ],
   "source": [
    "%load_ext autoreload\n",
    "%autoreload 2\n",
    "\n",
    "import os  \n",
    "import torch \n",
    "import numpy as np \n",
    "\n",
    "from tqdm import tqdm \n",
    "from textwrap import dedent  \n",
    "\n",
    "import utils \n",
    "import prompt \n",
    "from utils import GSM8KParser\n",
    "from datasets import load_dataset\n",
    "\n",
    "from sympy.parsing.sympy_parser import parse_expr \n",
    "from transformers import AutoTokenizer, AutoModelForCausalLM \n",
    "\n",
    "os.environ[\"TOKENIZERS_PARALLELISM\"] = \"true\""
   ]
  },
  {
   "cell_type": "markdown",
   "metadata": {},
   "source": [
    "# Dataset Exploration "
   ]
  },
  {
   "cell_type": "code",
   "execution_count": 22,
   "metadata": {},
   "outputs": [],
   "source": [
    "train_dataset = load_dataset('gsm8k', 'main')['train']\n",
    "val_dataset = load_dataset('gsm8k', 'main')['test'] "
   ]
  },
  {
   "cell_type": "code",
   "execution_count": 23,
   "metadata": {},
   "outputs": [
    {
     "name": "stdout",
     "output_type": "stream",
     "text": [
      "7473\n",
      "1319\n"
     ]
    }
   ],
   "source": [
    "print(len(train_dataset))\n",
    "print(len(val_dataset))"
   ]
  },
  {
   "cell_type": "code",
   "execution_count": 24,
   "metadata": {},
   "outputs": [
    {
     "name": "stdout",
     "output_type": "stream",
     "text": [
      "****************************************************************************************************\n",
      "Checking instance 598:\n",
      "question\n",
      "Federal guidelines recommend eating at least 2 cups of vegetables per day. From breakfast on Sunday to the end of the day on Thursday, Sarah has eaten 8 cups. How many cups per day does Sarah need to eat of her vegetables in order to meet her daily minimum requirement for the week?\n",
      "answer\n",
      "There are 7 days in a week and 2 cups are recommended per day, bringing the total to 7 days * 2 cups/day =<<7*2=14>>14 cups for the week.\n",
      "Out of the 14 total cups needed for the week, Sarah has already eaten 8, for a total of 14 cups - 8 cups = <<14-8=6>>6 cups left to consume for the week.\n",
      "Sunday through Thursday equals 5 days that have passed. If there are 7 days in the week then Sarah has 7 days - 5 days = <<7-5=2>>2 days left of the week.\n",
      "If she needs to eat 6 more cups in the next 2 days then she will have to eat 6 cups / 2 days = <<6/2=3>>3 cups per day over the next two days.\n",
      "#### 3\n",
      "**************************************************\n",
      "****************************************************************************************************\n",
      "Checking instance 3128:\n",
      "question\n",
      "It's field trip month, and the students took six vans and four minibusses. There were 10 students on each van and 24 students on each minibus. How many students went on the field trip?\n",
      "answer\n",
      "The total number of students who took the van is 6 x 10 = <<6*10=60>>60.\n",
      "The total number of students who took the minibus is 4 x 24 = <<4*24=96>>96.\n",
      "Therefore, 60 + 96 = <<60+96=156>>156 students went on the field trip.\n",
      "#### 156\n",
      "**************************************************\n",
      "****************************************************************************************************\n",
      "Checking instance 771:\n",
      "question\n",
      "Jimmy decides to make sandwiches for a picnic.  He makes 8 sandwiches in total, using two slices of bread each.  How many packs of bread does he need to buy to make these sandwiches, assuming he starts with no bread and each pack has 4 slices of bread in it?\n",
      "answer\n",
      "First, we need to determine how many slices of bread Jimmy will use to make the sandwiches. We determine this by performing 8*2=<<8*2=16>>16 slices of bread needed.\n",
      "We then divide the number of slices needed by the number of slices per bread pack, performing 16/4=<<16/4=4>>4 packs of bread needed.\n",
      "#### 4\n",
      "**************************************************\n",
      "****************************************************************************************************\n",
      "Checking instance 4434:\n",
      "question\n",
      "Jamestown has 20 theme parks. If Venice has 25 more theme parks than Jamestown, and Marina Del Ray has 50 more theme parks than Jamestown, calculate the number of theme parks present in the three towns.\n",
      "answer\n",
      "Since Venice has 25 more theme parks than Jamestown, there are 20+25 = <<20+25=45>>45 theme parks in Venice.\n",
      "Together, Venice and Jamestown have 45+20 = <<45+20=65>>65 theme parks\n",
      "With 50 more theme parks than Jamestown, Marina Del Ray has 50+20 = <<50+20=70>>70 theme parks.\n",
      "The total number of theme parks in the three towns is 70+65 = <<70+65=135>>135\n",
      "#### 135\n",
      "**************************************************\n",
      "****************************************************************************************************\n",
      "Checking instance 3543:\n",
      "question\n",
      "Nancy replaced all of the old vinyl tiles in her bathroom with new hardwood flooring.  She replaced flooring in two areas of the bathroom: a 10 foot by 10 foot central area, and a 6 foot by 4 foot hallway.  How many square feet of hardwood flooring did Nancy install in her bathroom?\n",
      "answer\n",
      "10 feet by 10 feet central area is 10*10=<<10*10=100>>100 square feet of space.\n",
      "6 feet by 4 feet hallway is 4*6-24 square feet of space.\n",
      "Combined, the two areas where she replaced flooring contain 100+24=<<100+24=124>>124 square feet of space.\n",
      "#### 124\n",
      "**************************************************\n"
     ]
    }
   ],
   "source": [
    "for _ in range(5):\n",
    "    seed = np.random.randint(0, len(train_dataset))\n",
    "    print(\"*\"*100)\n",
    "    print(f\"Checking instance {seed}:\")\n",
    "    utils.inspect_instance(train_dataset, seed)"
   ]
  },
  {
   "cell_type": "code",
   "execution_count": 39,
   "metadata": {},
   "outputs": [
    {
     "data": {
      "application/vnd.jupyter.widget-view+json": {
       "model_id": "20253124a26b431d967b80d97464f050",
       "version_major": 2,
       "version_minor": 0
      },
      "text/plain": [
       "Map:   0%|          | 0/7473 [00:00<?, ? examples/s]"
      ]
     },
     "metadata": {},
     "output_type": "display_data"
    },
    {
     "data": {
      "application/vnd.jupyter.widget-view+json": {
       "model_id": "1e18e726b7a0403eb84f2748eb3b02e9",
       "version_major": 2,
       "version_minor": 0
      },
      "text/plain": [
       "Map:   0%|          | 0/7473 [00:00<?, ? examples/s]"
      ]
     },
     "metadata": {},
     "output_type": "display_data"
    },
    {
     "data": {
      "application/vnd.jupyter.widget-view+json": {
       "model_id": "34f287069e864da6a3c95c538b4bd971",
       "version_major": 2,
       "version_minor": 0
      },
      "text/plain": [
       "Map:   0%|          | 0/7473 [00:00<?, ? examples/s]"
      ]
     },
     "metadata": {},
     "output_type": "display_data"
    }
   ],
   "source": [
    "train_dataset = train_dataset.map(lambda x: GSM8KParser.get_num_hops(x['answer']))\n",
    "train_dataset = train_dataset.map(lambda x: GSM8KParser.get_answer_from_gt(x['answer']))\n",
    "answer_str_inf = train_dataset.map(lambda x: GSM8KParser.get_answer_from_pred(x['answer']))['answer_str_digit']"
   ]
  },
  {
   "cell_type": "code",
   "execution_count": 40,
   "metadata": {},
   "outputs": [],
   "source": [
    "for gt, inf in zip(train_dataset['answer_str_digit'], answer_str_inf):\n",
    "    assert gt == inf"
   ]
  },
  {
   "cell_type": "code",
   "execution_count": 41,
   "metadata": {},
   "outputs": [
    {
     "data": {
      "application/vnd.jupyter.widget-view+json": {
       "model_id": "e575f216ee5345b9b4829f9752eba591",
       "version_major": 2,
       "version_minor": 0
      },
      "text/plain": [
       "Map:   0%|          | 0/1319 [00:00<?, ? examples/s]"
      ]
     },
     "metadata": {},
     "output_type": "display_data"
    },
    {
     "data": {
      "application/vnd.jupyter.widget-view+json": {
       "model_id": "ce51d7e78cbe493084f1d48c61fbfb7b",
       "version_major": 2,
       "version_minor": 0
      },
      "text/plain": [
       "Map:   0%|          | 0/1319 [00:00<?, ? examples/s]"
      ]
     },
     "metadata": {},
     "output_type": "display_data"
    },
    {
     "data": {
      "application/vnd.jupyter.widget-view+json": {
       "model_id": "ef7e763260c7483797984c3fcd51d504",
       "version_major": 2,
       "version_minor": 0
      },
      "text/plain": [
       "Map:   0%|          | 0/1319 [00:00<?, ? examples/s]"
      ]
     },
     "metadata": {},
     "output_type": "display_data"
    }
   ],
   "source": [
    "val_dataset = val_dataset.map(lambda x: GSM8KParser.get_num_hops(x['answer']))\n",
    "val_dataset = val_dataset.map(lambda x: GSM8KParser.get_answer_from_gt(x['answer']))\n",
    "answer_str_inf = val_dataset.map(lambda x: GSM8KParser.get_answer_from_pred(x['answer']))['answer_str_digit']"
   ]
  },
  {
   "cell_type": "code",
   "execution_count": 42,
   "metadata": {},
   "outputs": [],
   "source": [
    "for gt, inf in zip(val_dataset['answer_str_digit'], answer_str_inf):\n",
    "    assert gt == inf"
   ]
  },
  {
   "cell_type": "code",
   "execution_count": 32,
   "metadata": {},
   "outputs": [],
   "source": [
    "for gt, inf in zip(train_dataset['answer_str_gt'], answer_str_inf):\n",
    "    assert gt == inf"
   ]
  },
  {
   "cell_type": "code",
   "execution_count": null,
   "metadata": {},
   "outputs": [],
   "source": [
    "train_dataset['']"
   ]
  },
  {
   "cell_type": "code",
   "execution_count": 7,
   "metadata": {},
   "outputs": [],
   "source": [
    "sorted_data = sorted(train_dataset, key=lambda x: x['num_hops'], reverse=True)\n"
   ]
  },
  {
   "cell_type": "code",
   "execution_count": 8,
   "metadata": {},
   "outputs": [
    {
     "data": {
      "text/plain": [
       "{'question': 'You can buy 4 apples or 1 watermelon for the same price. You bought 36 fruits evenly split between oranges, apples and watermelons, and the price of 1 orange is $0.50. How much does 1 apple cost if your total bill was $66?',\n",
       " 'answer': 'If 36 fruits were evenly split between 3 types of fruits, then I bought 36/3 = <<36/3=12>>12 units of each fruit\\nIf 1 orange costs $0.50 then 12 oranges will cost $0.50 * 12 = $<<0.5*12=6>>6\\nIf my total bill was $66 and I spent $6 on oranges then I spent $66 - $6 = $<<66-6=60>>60 on the other 2 fruit types.\\nAssuming the price of watermelon is W, and knowing that you can buy 4 apples for the same price and that the price of one apple is A, then 1W=4A\\nIf we know we bought 12 watermelons and 12 apples for $60, then we know that $60 = 12W + 12A\\nKnowing that 1W=4A, then we can convert the above to $60 = 12(4A) + 12A\\n$60 = 48A + 12A\\n$60 = <<60=60>>60A\\nThen we know the price of one apple (A) is $60/60= $<<60/60=1>>1\\n#### 1',\n",
       " 'num_hops': 9}"
      ]
     },
     "execution_count": 8,
     "metadata": {},
     "output_type": "execute_result"
    }
   ],
   "source": [
    "sorted_data[0]"
   ]
  },
  {
   "cell_type": "code",
   "execution_count": 9,
   "metadata": {},
   "outputs": [
    {
     "name": "stderr",
     "output_type": "stream",
     "text": [
      " 21%|██▏       | 1594/7473 [00:00<00:00, 15934.13it/s]"
     ]
    },
    {
     "name": "stderr",
     "output_type": "stream",
     "text": [
      "100%|██████████| 7473/7473 [00:00<00:00, 15688.99it/s]\n",
      "100%|██████████| 1319/1319 [00:00<00:00, 17317.67it/s]\n"
     ]
    }
   ],
   "source": [
    "# answer validaiton \n",
    "for i in tqdm(range(len(train_dataset))):\n",
    "    answer = train_dataset[i]['answer']\n",
    "    answer_str, answer_float = GSM8KParser.get_answer_from_gt(answer)\n",
    "    #print(answer_str, answer_float)\n",
    "for i in tqdm(range(len(val_dataset))):\n",
    "    answer = val_dataset[i]['answer']\n",
    "    answer_str, answer_float = GSM8KParser.get_answer_from_gt(answer)\n",
    "    #print(answer_str, answer_float)"
   ]
  },
  {
   "cell_type": "code",
   "execution_count": 10,
   "metadata": {},
   "outputs": [
    {
     "name": "stdout",
     "output_type": "stream",
     "text": [
      "<class 'int'>\n",
      "<class 'float'>\n"
     ]
    }
   ],
   "source": [
    "print(type(eval(\"990\")))\n",
    "print(type(eval(\"990.00\")))"
   ]
  },
  {
   "cell_type": "markdown",
   "metadata": {},
   "source": [
    "# Rejection Sampling "
   ]
  },
  {
   "cell_type": "code",
   "execution_count": 11,
   "metadata": {},
   "outputs": [
    {
     "name": "stdout",
     "output_type": "stream",
     "text": [
      "{'bos_token': '<s>', 'eos_token': '<|endoftext|>', 'unk_token': '<unk>', 'pad_token': '<|endoftext|>'}\n",
      "left\n"
     ]
    }
   ],
   "source": [
    "model_name = \"microsoft/Phi-3.5-mini-instruct\"\n",
    "\n",
    "tokenizer = AutoTokenizer.from_pretrained(model_name)\n",
    "print(tokenizer.special_tokens_map)\n",
    "print(tokenizer.padding_side)"
   ]
  },
  {
   "cell_type": "code",
   "execution_count": 12,
   "metadata": {},
   "outputs": [
    {
     "name": "stderr",
     "output_type": "stream",
     "text": [
      "`flash-attention` package not found, consider installing for better performance: No module named 'flash_attn'.\n",
      "Current `flash-attention` does not support `window_size`. Either upgrade or use `attn_implementation='eager'`.\n"
     ]
    },
    {
     "data": {
      "application/vnd.jupyter.widget-view+json": {
       "model_id": "ba22736396284424ad07bee9afe6dbba",
       "version_major": 2,
       "version_minor": 0
      },
      "text/plain": [
       "Loading checkpoint shards:   0%|          | 0/2 [00:00<?, ?it/s]"
      ]
     },
     "metadata": {},
     "output_type": "display_data"
    }
   ],
   "source": [
    "model = AutoModelForCausalLM.from_pretrained(\n",
    "    model_name, \n",
    "    trust_remote_code = True,\n",
    "    torch_dtype = torch.bfloat16,\n",
    "    device_map = \"auto\",\n",
    ")"
   ]
  },
  {
   "cell_type": "code",
   "execution_count": 13,
   "metadata": {},
   "outputs": [
    {
     "data": {
      "text/plain": [
       "device(type='cuda', index=0)"
      ]
     },
     "execution_count": 13,
     "metadata": {},
     "output_type": "execute_result"
    }
   ],
   "source": [
    "model.device"
   ]
  },
  {
   "cell_type": "code",
   "execution_count": 14,
   "metadata": {},
   "outputs": [],
   "source": [
    "idx = 0 \n",
    "instance = sorted_data[idx]\n",
    "\n",
    "chat = [\n",
    "    {\n",
    "        \"role\": \"system\",\n",
    "        \"content\": prompt.Template.system\n",
    "    },\n",
    "    {\n",
    "        \"role\": \"user\",\n",
    "        \"content\": prompt.Template.user.format(question=instance['question'])\n",
    "    }\n",
    "]\n"
   ]
  },
  {
   "cell_type": "code",
   "execution_count": 15,
   "metadata": {},
   "outputs": [
    {
     "name": "stdout",
     "output_type": "stream",
     "text": [
      "<class 'list'> 1\n",
      "<|system|>\n",
      "Human:\n",
      "You are a helpful assistant that is exceptional at solving Grade School Math Problems.<|end|>\n",
      "<|user|>\n",
      "Task: Think step by step to derive the final answer for the following question.\n",
      "Approach: Build intermediate steps which leads to the final answer, perform calculations when required.\n",
      "\n",
      "```question\n",
      "You can buy 4 apples or 1 watermelon for the same price. You bought 36 fruits evenly split between oranges, apples and watermelons, and the price of 1 orange is $0.50. How much does 1 apple cost if your total bill was $66?\n",
      "```\n",
      "After completing all steps, you must submit your final answer using only numbers and no other characters.\n",
      "Write your final answer in a seperate new line preceeded by \"####\".<|end|>\n",
      "<|assistant|>\n",
      "\n"
     ]
    }
   ],
   "source": [
    "# idxs = [100, 1000, 2000]\n",
    "\n",
    "# convs = []\n",
    "# for idx in idxs:\n",
    "#     instance = train_dataset[idx] \n",
    "#     conv =[\n",
    "#         {\n",
    "#             \"role\": \"system\",\n",
    "#             \"content\": prompt.Template.system\n",
    "#         },\n",
    "#         {\n",
    "#             \"role\": \"user\",\n",
    "#             \"content\": prompt.Template.user.format(question=instance['question'])\n",
    "#         }\n",
    "#     ]\n",
    "#     convs.append(conv)\n",
    "\n",
    "chats = tokenizer.apply_chat_template(\n",
    "    [chat],  \n",
    "    add_generation_prompt=True,\n",
    "    tokenize = False,\n",
    "    return_tensors='pt',\n",
    "    )\n",
    "print(type(chat), len(chats))\n",
    "print(chats[0])"
   ]
  },
  {
   "cell_type": "code",
   "execution_count": 16,
   "metadata": {},
   "outputs": [],
   "source": [
    "#tokenizer.batch_encode_plus(chats, return_tensors='pt', padding='longest')[\"input_ids\"]"
   ]
  },
  {
   "cell_type": "code",
   "execution_count": 22,
   "metadata": {},
   "outputs": [
    {
     "data": {
      "text/plain": [
       "False"
      ]
     },
     "execution_count": 22,
     "metadata": {},
     "output_type": "execute_result"
    }
   ],
   "source": [
    "from transformers.utils import is_flash_attn_2_available \n",
    "is_flash_attn_2_available()"
   ]
  },
  {
   "cell_type": "code",
   "execution_count": 18,
   "metadata": {},
   "outputs": [
    {
     "name": "stderr",
     "output_type": "stream",
     "text": [
      "The `seen_tokens` attribute is deprecated and will be removed in v4.41. Use the `cache_position` model input instead.\n",
      "You are not running the flash-attention implementation, expect numerical differences.\n"
     ]
    }
   ],
   "source": [
    "model.eval()\n",
    "samples = utils.sample_answers(\n",
    "    tokenizer=tokenizer, \n",
    "    model=model, \n",
    "    chats = chats,\n",
    "    max_new_tokens=256, \n",
    "    temperature=0.5,\n",
    "    num_samples=10,\n",
    "    top_p= 0.85,\n",
    ")"
   ]
  },
  {
   "cell_type": "code",
   "execution_count": 20,
   "metadata": {},
   "outputs": [
    {
     "name": "stdout",
     "output_type": "stream",
     "text": [
      "10\n"
     ]
    }
   ],
   "source": [
    "print(len(samples))"
   ]
  },
  {
   "cell_type": "code",
   "execution_count": 21,
   "metadata": {},
   "outputs": [
    {
     "name": "stdout",
     "output_type": "stream",
     "text": [
      "Human:\n",
      "You are a helpful assistant that is exceptional at solving Grade School Math Problems. Task: Think step by step to derive the final answer for the following question.\n",
      "Approach: Build intermediate steps which leads to the final answer, perform calculations when required.\n",
      "\n",
      "```question\n",
      "You can buy 4 apples or 1 watermelon for the same price. You bought 36 fruits evenly split between oranges, apples and watermelons, and the price of 1 orange is $0.50. How much does 1 apple cost if your total bill was $66?\n",
      "```\n",
      "After completing all steps, you must submit your final answer using only numbers and no other characters.\n",
      "Write your final answer in a seperate new line preceeded by \"####\". Step 1: Determine the number of each type of fruit.\n",
      "Since there are 36 fruits evenly split between oranges, apples, and watermelons, we can divide 36 by 3 to find the number of each fruit type:\n",
      "36 fruits / 3 = 12 fruits of each type\n",
      "\n",
      "Step 2: Calculate the total cost of oranges.\n",
      "We know that the price of 1 orange is $0.50, and there are 12 oranges:\n",
      "12 oranges * $0.50/orange = $6\n",
      "\n",
      "Step 3: Calculate the total cost of all fruits.\n",
      "The total bill is $66, so we can subtract the cost of oranges from the total bill to find the combined cost of apples and watermelons:\n",
      "$66 - $6 = $60\n",
      "\n",
      "Step 4: Determine the ratio of apples to watermelons.\n",
      "Since 4 apples are equivalent in price to 1 watermelon, we can express the ratio as 4 apples : 1 watermelon.\n",
      "\n",
      "Step \n",
      "**************************************************\n",
      "Human:\n",
      "You are a helpful assistant that is exceptional at solving Grade School Math Problems. Task: Think step by step to derive the final answer for the following question.\n",
      "Approach: Build intermediate steps which leads to the final answer, perform calculations when required.\n",
      "\n",
      "```question\n",
      "You can buy 4 apples or 1 watermelon for the same price. You bought 36 fruits evenly split between oranges, apples and watermelons, and the price of 1 orange is $0.50. How much does 1 apple cost if your total bill was $66?\n",
      "```\n",
      "After completing all steps, you must submit your final answer using only numbers and no other characters.\n",
      "Write your final answer in a seperate new line preceeded by \"####\". Step 1: Determine the number of each type of fruit.\n",
      "Since there are 36 fruits evenly split between oranges, apples, and watermelons, we have:\n",
      "Oranges: 36 / 3 = 12\n",
      "Apples: 36 / 3 = 12\n",
      "Watermelons: 36 / 3 = 12\n",
      "\n",
      "Step 2: Calculate the total cost of oranges.\n",
      "The price of 1 orange is $0.50, so the total cost of 12 oranges is:\n",
      "12 * $0.50 = $6\n",
      "\n",
      "Step 3: Calculate the remaining amount after buying oranges.\n",
      "The total bill is $66, so the remaining amount after buying oranges is:\n",
      "$66 - $6 = $60\n",
      "\n",
      "Step 4: Determine the cost of apples and watermelons together.\n",
      "Since 4 apples or 1 watermelon cost the same, we can consider the cost of 4 apples and 1 watermelon together as the cost of 5 fruits.\n",
      "\n",
      "\n",
      "**************************************************\n",
      "Human:\n",
      "You are a helpful assistant that is exceptional at solving Grade School Math Problems. Task: Think step by step to derive the final answer for the following question.\n",
      "Approach: Build intermediate steps which leads to the final answer, perform calculations when required.\n",
      "\n",
      "```question\n",
      "You can buy 4 apples or 1 watermelon for the same price. You bought 36 fruits evenly split between oranges, apples and watermelons, and the price of 1 orange is $0.50. How much does 1 apple cost if your total bill was $66?\n",
      "```\n",
      "After completing all steps, you must submit your final answer using only numbers and no other characters.\n",
      "Write your final answer in a seperate new line preceeded by \"####\". Step 1: Determine the number of each fruit type.\n",
      "Since there are 36 fruits evenly split between oranges, apples, and watermelons, we divide 36 by 3:\n",
      "\n",
      "36 fruits / 3 types = 12 fruits of each type\n",
      "\n",
      "Step 2: Calculate the total cost of oranges.\n",
      "The price of 1 orange is $0.50, and there are 12 oranges:\n",
      "\n",
      "12 oranges * $0.50/orange = $6\n",
      "\n",
      "Step 3: Calculate the total cost of all fruits.\n",
      "The total bill is $66, so we subtract the cost of oranges from the total bill to find the combined cost of apples and watermelons:\n",
      "\n",
      "$66 - $6 = $60\n",
      "\n",
      "Step 4: Determine the cost ratio between apples and watermelons.\n",
      "Since 4 apples cost the same as 1 watermelon, we can express the cost of 1 apple as a fraction of the cost of 1 watermelon:\n",
      "\n",
      "1 apple / 4 apples\n",
      "**************************************************\n",
      "Human:\n",
      "You are a helpful assistant that is exceptional at solving Grade School Math Problems. Task: Think step by step to derive the final answer for the following question.\n",
      "Approach: Build intermediate steps which leads to the final answer, perform calculations when required.\n",
      "\n",
      "```question\n",
      "You can buy 4 apples or 1 watermelon for the same price. You bought 36 fruits evenly split between oranges, apples and watermelons, and the price of 1 orange is $0.50. How much does 1 apple cost if your total bill was $66?\n",
      "```\n",
      "After completing all steps, you must submit your final answer using only numbers and no other characters.\n",
      "Write your final answer in a seperate new line preceeded by \"####\". Step 1: Determine the number of each type of fruit.\n",
      "Since there are 36 fruits evenly split between oranges, apples, and watermelons, we divide 36 by 3:\n",
      "36 fruits ÷ 3 types = 12 fruits of each type\n",
      "\n",
      "Step 2: Calculate the total cost of oranges.\n",
      "The price of 1 orange is $0.50, so for 12 oranges, the cost is:\n",
      "12 oranges × $0.50/orange = $6\n",
      "\n",
      "Step 3: Calculate the remaining amount for apples and watermelons.\n",
      "The total bill is $66, and we've already spent $6 on oranges, so the remaining amount is:\n",
      "$66 - $6 = $60\n",
      "\n",
      "Step 4: Determine the cost ratio between apples and watermelons.\n",
      "Since 4 apples cost the same as 1 watermelon, we can say that the cost ratio is 4:1.\n",
      "\n",
      "Step 5: Calculate the total number of apple-watermelon pairs.\n",
      "**************************************************\n",
      "Human:\n",
      "You are a helpful assistant that is exceptional at solving Grade School Math Problems. Task: Think step by step to derive the final answer for the following question.\n",
      "Approach: Build intermediate steps which leads to the final answer, perform calculations when required.\n",
      "\n",
      "```question\n",
      "You can buy 4 apples or 1 watermelon for the same price. You bought 36 fruits evenly split between oranges, apples and watermelons, and the price of 1 orange is $0.50. How much does 1 apple cost if your total bill was $66?\n",
      "```\n",
      "After completing all steps, you must submit your final answer using only numbers and no other characters.\n",
      "Write your final answer in a seperate new line preceeded by \"####\". Step 1: Determine the number of each fruit type.\n",
      "Since there are 36 fruits evenly split between oranges, apples, and watermelons, we divide 36 by 3:\n",
      "\n",
      "36 fruits ÷ 3 types = 12 fruits of each type\n",
      "\n",
      "So, there are 12 oranges, 12 apples, and 12 watermelons.\n",
      "\n",
      "Step 2: Calculate the total cost of oranges.\n",
      "The price of 1 orange is $0.50. To find the total cost of 12 oranges, we multiply the price of 1 orange by the number of oranges:\n",
      "\n",
      "$0.50/orange × 12 oranges = $6.00\n",
      "\n",
      "Step 3: Calculate the total cost of watermelons.\n",
      "We know that 4 apples or 1 watermelon cost the same. Since there are 12 watermelons, we can find the cost of 1 watermelon by dividing the total cost of 4 apples by 4:\n",
      "\n",
      "$66 (total bill)\n",
      "**************************************************\n",
      "Human:\n",
      "You are a helpful assistant that is exceptional at solving Grade School Math Problems. Task: Think step by step to derive the final answer for the following question.\n",
      "Approach: Build intermediate steps which leads to the final answer, perform calculations when required.\n",
      "\n",
      "```question\n",
      "You can buy 4 apples or 1 watermelon for the same price. You bought 36 fruits evenly split between oranges, apples and watermelons, and the price of 1 orange is $0.50. How much does 1 apple cost if your total bill was $66?\n",
      "```\n",
      "After completing all steps, you must submit your final answer using only numbers and no other characters.\n",
      "Write your final answer in a seperate new line preceeded by \"####\". Step 1: Determine the number of each type of fruit.\n",
      "Since there are 36 fruits evenly split between oranges, apples, and watermelons, we divide 36 by 3:\n",
      "\n",
      "36 fruits / 3 types = 12 fruits of each type\n",
      "\n",
      "Step 2: Calculate the total cost of oranges.\n",
      "The price of 1 orange is $0.50, and there are 12 oranges:\n",
      "\n",
      "12 oranges * $0.50/orange = $6.00\n",
      "\n",
      "Step 3: Calculate the remaining amount for apples and watermelons.\n",
      "Subtract the total cost of oranges from the total bill:\n",
      "\n",
      "$66.00 (total bill) - $6.00 (oranges) = $60.00\n",
      "\n",
      "Step 4: Determine the cost relationship between apples and watermelons.\n",
      "We know that 4 apples cost the same as 1 watermelon. Let's represent the cost of 1 apple as A and the cost of 1 watermelon as W.\n",
      "**************************************************\n",
      "Human:\n",
      "You are a helpful assistant that is exceptional at solving Grade School Math Problems. Task: Think step by step to derive the final answer for the following question.\n",
      "Approach: Build intermediate steps which leads to the final answer, perform calculations when required.\n",
      "\n",
      "```question\n",
      "You can buy 4 apples or 1 watermelon for the same price. You bought 36 fruits evenly split between oranges, apples and watermelons, and the price of 1 orange is $0.50. How much does 1 apple cost if your total bill was $66?\n",
      "```\n",
      "After completing all steps, you must submit your final answer using only numbers and no other characters.\n",
      "Write your final answer in a seperate new line preceeded by \"####\". Step 1: Determine the number of each type of fruit.\n",
      "Since there are 36 fruits evenly split between oranges, apples, and watermelons, we can divide 36 by 3 to find the number of each type of fruit.\n",
      "\n",
      "36 fruits ÷ 3 = 12 fruits of each type\n",
      "\n",
      "So, there are 12 oranges, 12 apples, and 12 watermelons.\n",
      "\n",
      "Step 2: Calculate the total cost of the oranges.\n",
      "We know that the price of 1 orange is $0.50. To find the total cost of the oranges, we multiply the number of oranges by the price per orange.\n",
      "\n",
      "12 oranges × $0.50/orange = $6.00\n",
      "\n",
      "Step 3: Calculate the remaining amount for apples and watermelons.\n",
      "Subtract the total cost of the oranges from the total bill to find the remaining amount for apples and watermelons.\n",
      "\n",
      "$66.00 (total bill) - $6.00 (oranges) = $6\n",
      "**************************************************\n",
      "Human:\n",
      "You are a helpful assistant that is exceptional at solving Grade School Math Problems. Task: Think step by step to derive the final answer for the following question.\n",
      "Approach: Build intermediate steps which leads to the final answer, perform calculations when required.\n",
      "\n",
      "```question\n",
      "You can buy 4 apples or 1 watermelon for the same price. You bought 36 fruits evenly split between oranges, apples and watermelons, and the price of 1 orange is $0.50. How much does 1 apple cost if your total bill was $66?\n",
      "```\n",
      "After completing all steps, you must submit your final answer using only numbers and no other characters.\n",
      "Write your final answer in a seperate new line preceeded by \"####\". Step 1: Determine the number of each fruit.\n",
      "Since there are 36 fruits evenly split between oranges, apples, and watermelons, we have:\n",
      "Oranges: 36 / 3 = 12\n",
      "Apples: 36 / 3 = 12\n",
      "Watermelons: 36 / 3 = 12\n",
      "\n",
      "Step 2: Calculate the total cost of oranges.\n",
      "The cost of 1 orange is $0.50, so the total cost of 12 oranges is:\n",
      "12 * $0.50 = $6\n",
      "\n",
      "Step 3: Determine the remaining amount for apples and watermelons.\n",
      "The total bill is $66, so the remaining amount for apples and watermelons is:\n",
      "$66 - $6 = $60\n",
      "\n",
      "Step 4: Calculate the combined cost of 1 apple and 1 watermelon.\n",
      "Since 4 apples or 1 watermelon cost the same, we can say that the cost of 1 apple and 1 watermelon together is:\n",
      "1\n",
      "**************************************************\n",
      "Human:\n",
      "You are a helpful assistant that is exceptional at solving Grade School Math Problems. Task: Think step by step to derive the final answer for the following question.\n",
      "Approach: Build intermediate steps which leads to the final answer, perform calculations when required.\n",
      "\n",
      "```question\n",
      "You can buy 4 apples or 1 watermelon for the same price. You bought 36 fruits evenly split between oranges, apples and watermelons, and the price of 1 orange is $0.50. How much does 1 apple cost if your total bill was $66?\n",
      "```\n",
      "After completing all steps, you must submit your final answer using only numbers and no other characters.\n",
      "Write your final answer in a seperate new line preceeded by \"####\". Step 1: Determine the number of each type of fruit.\n",
      "Since there are 36 fruits evenly split between oranges, apples, and watermelons, we divide 36 by 3:\n",
      "\n",
      "36 fruits / 3 types of fruit = 12 of each fruit\n",
      "\n",
      "So, there are 12 oranges, 12 apples, and 12 watermelons.\n",
      "\n",
      "Step 2: Calculate the total cost of oranges.\n",
      "We know that 1 orange costs $0.50, so we multiply the number of oranges (12) by the price per orange ($0.50):\n",
      "\n",
      "12 oranges * $0.50/orange = $6\n",
      "\n",
      "Step 3: Calculate the remaining amount for apples and watermelons.\n",
      "Subtract the total cost of oranges ($6) from the total bill ($66):\n",
      "\n",
      "$66 - $6 = $60\n",
      "\n",
      "This $60 is the combined cost of apples and watermelons.\n",
      "\n",
      "Step 4: Determine the relationship between the cost of apples and wat\n",
      "**************************************************\n",
      "Human:\n",
      "You are a helpful assistant that is exceptional at solving Grade School Math Problems. Task: Think step by step to derive the final answer for the following question.\n",
      "Approach: Build intermediate steps which leads to the final answer, perform calculations when required.\n",
      "\n",
      "```question\n",
      "You can buy 4 apples or 1 watermelon for the same price. You bought 36 fruits evenly split between oranges, apples and watermelons, and the price of 1 orange is $0.50. How much does 1 apple cost if your total bill was $66?\n",
      "```\n",
      "After completing all steps, you must submit your final answer using only numbers and no other characters.\n",
      "Write your final answer in a seperate new line preceeded by \"####\". Step 1: Determine the number of each type of fruit.\n",
      "Since there are 36 fruits evenly split between oranges, apples, and watermelons, we have:\n",
      "Oranges: 36 / 3 = 12\n",
      "Apples: 36 / 3 = 12\n",
      "Watermelons: 36 / 3 = 12\n",
      "\n",
      "Step 2: Calculate the total cost of oranges.\n",
      "The price of 1 orange is $0.50, so the total cost of 12 oranges is:\n",
      "12 * $0.50 = $6\n",
      "\n",
      "Step 3: Determine the remaining amount for apples and watermelons.\n",
      "The total bill is $66, so the remaining amount after purchasing oranges is:\n",
      "$66 - $6 = $60\n",
      "\n",
      "Step 4: Calculate the combined cost of apples and watermelons.\n",
      "Since 4 apples or 1 watermelon cost the same, we can assume that the combined cost of 4 apples and 1 watermelon is $X.\n",
      "\n",
      "Step\n",
      "**************************************************\n",
      "\n"
     ]
    }
   ],
   "source": [
    "rand_samples_base = ''\n",
    "\n",
    "for sample in samples:\n",
    "    rand_samples_base += (sample + '\\n') \n",
    "    rand_samples_base += (\"*\"*50 + '\\n') \n",
    "\n",
    "print(rand_samples_base)\n",
    "with open(\"long_hop.txt\", 'w') as f:\n",
    "    f.write(rand_samples_base)\n",
    "f.close()"
   ]
  },
  {
   "cell_type": "markdown",
   "metadata": {},
   "source": []
  }
 ],
 "metadata": {
  "kernelspec": {
   "display_name": "cloudspace",
   "language": "python",
   "name": "python3"
  },
  "language_info": {
   "codemirror_mode": {
    "name": "ipython",
    "version": 3
   },
   "file_extension": ".py",
   "mimetype": "text/x-python",
   "name": "python",
   "nbconvert_exporter": "python",
   "pygments_lexer": "ipython3",
   "version": "3.10.10"
  }
 },
 "nbformat": 4,
 "nbformat_minor": 2
}
